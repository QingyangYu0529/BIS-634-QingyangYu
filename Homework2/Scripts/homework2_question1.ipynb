{
 "cells": [
  {
   "cell_type": "code",
   "execution_count": 56,
   "source": [
    "# import module minidom, import library matplotlib.\r\n",
    "from xml.dom import minidom\r\n",
    "import matplotlib.pyplot as plt\r\n",
    "file = minidom.parse('hw2-patients.xml')\r\n",
    "models = file.getElementsByTagName('patient')"
   ],
   "outputs": [],
   "metadata": {}
  },
  {
   "cell_type": "code",
   "execution_count": 57,
   "source": [
    "# create a list age, to save ages of all patients.\r\n",
    "age = []\r\n",
    "# use for loop to traverse all the attributes age, which is saved into the list age.\r\n",
    "for elem in models:\r\n",
    "    # use float() to transfer string into float, and saved into the list age.\r\n",
    "    age_value = float(elem.attributes['age'].value)\r\n",
    "    age.append(age_value)"
   ],
   "outputs": [],
   "metadata": {}
  },
  {
   "cell_type": "code",
   "execution_count": 58,
   "source": [
    "# import libraries matplotlib.\r\n",
    "import matplotlib\r\n",
    "import matplotlib.pyplot as plt\r\n",
    "# use matplotlib.pyplot to draw the histagram of ages. use .xlabel, .ylabel, .title to set the x-axis label, y-axis label and figure title.\r\n",
    "plt.hist(age, bins = 40, edgecolor = \"black\")\r\n",
    "plt.xlabel(\"Age\")\r\n",
    "plt.ylabel(\"Frequency\")\r\n",
    "plt.title(\"Distribution of the ages in the dataset\")\r\n",
    "plt.show()"
   ],
   "outputs": [
    {
     "output_type": "display_data",
     "data": {
      "image/png": "[encoded data removed]",
      "text/plain": [
       "<Figure size 432x288 with 1 Axes>"
      ]
     },
     "metadata": {
      "needs_background": "light"
     }
    }
   ],
   "metadata": {}
  },
  {
   "cell_type": "code",
   "execution_count": 59,
   "source": [
    "# define the function share_same_age().\r\n",
    "def share_same_age():\r\n",
    "    # use if/else statement to determine whether the length of list age equals to that of set age: \r\n",
    "    # If the length are the same, there are no patients share the same age. Otherwise there are at least two patients share the same age.\r\n",
    "    if len(age)!=len(set(age)):\r\n",
    "        print(\"There are some patients share the same age.\")\r\n",
    "    else: \r\n",
    "        print(\"No patients share the same age.\")\r\n",
    "\r\n",
    "share_same_age()"
   ],
   "outputs": [
    {
     "output_type": "stream",
     "name": "stdout",
     "text": [
      "No patients share the same age.\n"
     ]
    }
   ],
   "metadata": {}
  },
  {
   "cell_type": "code",
   "execution_count": 107,
   "source": [
    "# create a list gender, to save genders of all patients.\r\n",
    "gender = []\r\n",
    "# use for loop to traverse all the attributes gender, which is saved into the list gender.\r\n",
    "for elem in models:\r\n",
    "    gender_value = elem.attributes['gender'].value\r\n",
    "    gender.append(gender_value)"
   ],
   "outputs": [],
   "metadata": {}
  },
  {
   "cell_type": "code",
   "execution_count": 108,
   "source": [
    "# use matplotlib.pyplot to draw the histagram of genders. use .xlabel, .ylabel, .title to set the x-axis label, y-axis label and figure title.\r\n",
    "plt.hist(gender, bins = 40, edgecolor = \"black\")\r\n",
    "plt.xlabel(\"Gender\")\r\n",
    "plt.ylabel(\"Frequency\")\r\n",
    "plt.title(\"Distribution of the genders in the dataset\")\r\n",
    "plt.show()"
   ],
   "outputs": [
    {
     "output_type": "display_data",
     "data": {
      "image/png": "[encoded data removed]",
      "text/plain": [
       "<Figure size 432x288 with 1 Axes>"
      ]
     },
     "metadata": {
      "needs_background": "light"
     }
    }
   ],
   "metadata": {}
  },
  {
   "cell_type": "code",
   "execution_count": 62,
   "source": [
    "# use for loop to traverse all the attributes name, which is saved into the list name.\r\n",
    "name = []\r\n",
    "for elem in models:\r\n",
    "    name_value = elem.attributes['name'].value\r\n",
    "    name.append(name_value)"
   ],
   "outputs": [],
   "metadata": {}
  },
  {
   "cell_type": "code",
   "execution_count": 63,
   "source": [
    "# use zip function to store age and name of the patients in a list age_name_tuple.\r\n",
    "age_name_tuple = zip(age,name)\r\n",
    "# use sorted function to sort the patients by age, and store the sorted result into the list age_sorted_result.\r\n",
    "age_sorted_result = sorted(age)"
   ],
   "outputs": [],
   "metadata": {}
  },
  {
   "cell_type": "code",
   "execution_count": 64,
   "source": [
    "# use for loop to traverse all the attribute age.\r\n",
    "for elem in models:\r\n",
    "# use if/else: \r\n",
    "# If the value of this element's attribute age equals to the last element in the list age_sorted_result(the oldest age), print this element's attribute name.\r\n",
    "    if float(elem.attributes['age'].value) == age_sorted_result[-1]:\r\n",
    "        print (f\"Name of the oldest person is {elem.attributes['name'].value}.\")"
   ],
   "outputs": [
    {
     "output_type": "stream",
     "name": "stdout",
     "text": [
      "Name of the oldest person is Monica Caponera.\n"
     ]
    }
   ],
   "metadata": {}
  },
  {
   "cell_type": "code",
   "execution_count": 65,
   "source": [
    "# use sorted function to sort the tuple by ages.\r\n",
    "tuple_sorted_by_age1 = sorted(age_name_tuple, key = lambda t:t[0]) "
   ],
   "outputs": [],
   "metadata": {}
  },
  {
   "cell_type": "code",
   "execution_count": 75,
   "source": [
    "# define the function bisection, which is used to identify the patient with known age using bisection.\r\n",
    "def bisection(list,found_age):\r\n",
    "    # set mid as global variable.\r\n",
    "    global mid\r\n",
    "    # variables low and high are used to define the search range.\r\n",
    "    low = 0\r\n",
    "    high = len(list) - 1\r\n",
    "    while (low < high):\r\n",
    "        # variable mid is in the middle of each search range, used to compare with found_age.\r\n",
    "        mid = round((low + high)/2)\r\n",
    "        # if found_age is bigger than the element in the middle of the sorted list, only need to compare found_age with the elements on the right side.\r\n",
    "        if list[mid][0] < found_age:\r\n",
    "            low = mid + 1\r\n",
    "        # if found_age is samller than the element in the middle of the sorted list, only need to compare found_age with the elements on the left side.\r\n",
    "        elif list[mid][0] > found_age:\r\n",
    "            high = mid - 1\r\n",
    "        # if found_age is exactly the element in the middle of the sorted list, mid is the index of found_age and name of the corresponding patient.\r\n",
    "        elif list[mid][0] == found_age:\r\n",
    "            break\r\n",
    "    return mid\r\n",
    "\r\n",
    "bisection(tuple_sorted_by_age1,41.5)\r\n",
    "print(f\"The patient who is 41.5 years old is {tuple_sorted_by_age1[mid][1]}.\")\r\n"
   ],
   "outputs": [
    {
     "output_type": "stream",
     "name": "stdout",
     "text": [
      "The patient who is 41.5 years old is John Braswell.\n"
     ]
    }
   ],
   "metadata": {}
  },
  {
   "cell_type": "code",
   "execution_count": 67,
   "source": [
    "# the number of patients over found_age is the length of the sorted tuple sustract index of the patient whose age is found_age.\r\n",
    "num_patient_over_age = len(tuple_sorted_by_age1) - mid\r\n",
    "print(f\"The number of patients who are at least 41.5 years old is {num_patient_over_age}.\")"
   ],
   "outputs": [
    {
     "output_type": "stream",
     "name": "stdout",
     "text": [
      "The number of patients who are at least 41.5 years old is 150471.\n"
     ]
    }
   ],
   "metadata": {}
  },
  {
   "cell_type": "code",
   "execution_count": 128,
   "source": [
    "# define the function bisection_age_range, which is used to return the number of patients who are in the age range [low_age, high_age).\r\n",
    "def bisection_age_range(list,low_age,high_age,str):\r\n",
    "    global count\r\n",
    "    # run bisection for two times, to get the index of low_age and high_age.\r\n",
    "    low_age_pos = bisection(list,low_age)\r\n",
    "    high_age_pos = bisection(list,high_age)\r\n",
    "    # the number of patients who are in the age range [low_age, high_age) is the index of high_age substract that of low_age.\r\n",
    "    count = high_age_pos - low_age_pos\r\n",
    "    print(f\"The number of {str} patients who are at least {low_age} years old but are strictly less than {high_age} years old is {count}.\")\r\n",
    "    # return the number of patients who are in the age range [low_age, high_age).\r\n",
    "    return count"
   ],
   "outputs": [],
   "metadata": {}
  },
  {
   "cell_type": "code",
   "execution_count": 131,
   "source": [
    "# define function for_loop_age_range(), get the number of patients whose age is in the range(low_age, high_age) by traversing the whole list.\r\n",
    "def for_loop_age_range(list,low_age,high_age):\r\n",
    "    # variable count is the number of patients who are in the age range.\r\n",
    "    count = 0\r\n",
    "    # use for loop to traverse the elements in the list.\r\n",
    "    for i in range(0,len(list)):\r\n",
    "        # use if/else statement:\r\n",
    "        # if the element in the list is in the age range(low_age,high_age), it is counted.\r\n",
    "        if list[i][0] < high_age and list[i][0] >= low_age:\r\n",
    "            count = count + 1\r\n",
    "    print (f\"The number of all patients who are at least {low_age} years old but are strictly less than {high_age} years old is {count}.\")"
   ],
   "outputs": [],
   "metadata": {}
  },
  {
   "cell_type": "code",
   "execution_count": 132,
   "source": [
    "# import module time to record the running time.\r\n",
    "import time\r\n",
    "def comparison_for_loop_and_bisection(list,low_age,high_age):\r\n",
    "    # run function for_loop_age_range and record the running time.\r\n",
    "    start_for_loop = time.time()\r\n",
    "    for_loop_age_range(list,low_age,high_age)\r\n",
    "    end_for_loop = time.time()\r\n",
    "    print (f\"The time usage of function for_loop_age_range is {end_for_loop - start_for_loop} seconds.\")\r\n",
    "\r\n",
    "    # run function bisection_age_range and record the running time.\r\n",
    "    start_bisection = time.time()\r\n",
    "    bisection_age_range(list,low_age,high_age,'all')\r\n",
    "    end_bisection = time.time()\r\n",
    "    print (f\"The time usage of function bisection_age_range is {end_bisection-start_bisection} seconds.\")"
   ],
   "outputs": [],
   "metadata": {}
  },
  {
   "cell_type": "code",
   "execution_count": 130,
   "source": [
    "comparison_for_loop_and_bisection(tuple_sorted_by_age1,40,60)\r\n",
    "comparison_for_loop_and_bisection(tuple_sorted_by_age1,50,70)\r\n",
    "comparison_for_loop_and_bisection(tuple_sorted_by_age1,80,100)\r\n",
    "comparison_for_loop_and_bisection(tuple_sorted_by_age1,10,70)\r\n",
    "comparison_for_loop_and_bisection(tuple_sorted_by_age1,20,60)"
   ],
   "outputs": [
    {
     "output_type": "stream",
     "name": "stdout",
     "text": [
      "The number of patients who are at least 40 years old but are strictly less than 60 years old is 83688.\n",
      "The time usage of function for_loop_age_range is 0.08601856231689453 seconds.\n",
      "The number of all patients who are at least 40 years old but are strictly less than 60 years old is 83688.\n",
      "The time usage of function bisection_age_range is 0.0 seconds.\n",
      "The number of patients who are at least 50 years old but are strictly less than 70 years old is 74894.\n",
      "The time usage of function for_loop_age_range is 0.08101820945739746 seconds.\n",
      "The number of all patients who are at least 50 years old but are strictly less than 70 years old is 74894.\n",
      "The time usage of function bisection_age_range is 0.0 seconds.\n",
      "The number of patients who are at least 80 years old but are strictly less than 100 years old is 13316.\n",
      "The time usage of function for_loop_age_range is 0.08401894569396973 seconds.\n",
      "The number of all patients who are at least 80 years old but are strictly less than 100 years old is 13316.\n",
      "The time usage of function bisection_age_range is 0.0 seconds.\n",
      "The number of patients who are at least 10 years old but are strictly less than 70 years old is 244082.\n",
      "The time usage of function for_loop_age_range is 0.08301830291748047 seconds.\n",
      "The number of all patients who are at least 10 years old but are strictly less than 70 years old is 244082.\n",
      "The time usage of function bisection_age_range is 0.0010001659393310547 seconds.\n",
      "The number of patients who are at least 20 years old but are strictly less than 60 years old is 169212.\n",
      "The time usage of function for_loop_age_range is 0.08101844787597656 seconds.\n",
      "The number of all patients who are at least 20 years old but are strictly less than 60 years old is 169212.\n",
      "The time usage of function bisection_age_range is 0.0 seconds.\n"
     ]
    }
   ],
   "metadata": {}
  },
  {
   "cell_type": "code",
   "execution_count": 133,
   "source": [
    "# use zip function to store age and gender of the patients in a list age_gender_tuple.\r\n",
    "age_gender_tuple = zip(age,gender)\r\n",
    "# use sorted function to sort the tuple by ages, save into the list tuple_sorted_by_age2.\r\n",
    "tuple_sorted_by_age2  = sorted(age_gender_tuple, key = lambda t:t[0])\r\n",
    "\r\n",
    "# create a list list_male, to save the ages and genders of males in tuple_sorted_by_age2.\r\n",
    "list_male = []\r\n",
    "for i in range(0,len(tuple_sorted_by_age2)):\r\n",
    "    if tuple_sorted_by_age2[i][1] == 'male':\r\n",
    "        list_male.append(tuple_sorted_by_age2[i])"
   ],
   "outputs": [],
   "metadata": {}
  },
  {
   "cell_type": "code",
   "execution_count": 137,
   "source": [
    "# define function bisection_age_range_and_male(), which is used to return both the total number of patients in an age range and the number of males in the age range.\r\n",
    "def bisection_age_range_and_male(list,list_male,low_age,high_age):\r\n",
    "    bisection_age_range(list,low_age,high_age,'all')\r\n",
    "    bisection_age_range(list_male,low_age,high_age,'male')"
   ],
   "outputs": [],
   "metadata": {}
  },
  {
   "cell_type": "code",
   "execution_count": 140,
   "source": [
    "# define function for_loop_age_range_and_male(), which is used to test the results of bisection_age_range_and_male().\r\n",
    "def for_loop_age_range_and_male(list,low_age,high_age):\r\n",
    "    # creat variable count to save the number of patients in the age range [low_age,high_age).\r\n",
    "    count = 0\r\n",
    "    for i in range(0,len(list)):\r\n",
    "        # use if/else statement:\r\n",
    "        # if the element in the list is in the age range [low_age,high_age), it is counted.\r\n",
    "        if list[i][0] < high_age and list[i][0] >= low_age:\r\n",
    "            count = count + 1\r\n",
    "    print (f\"The number of patients who are at least {low_age} years old but are strictly less than {high_age} years old is {count}.\")\r\n",
    "    \r\n",
    "    # creat variable count to save the number of male patients in the age range [low_age,high_age).\r\n",
    "    count_male = 0\r\n",
    "    for i in range(0,len(list_male)):\r\n",
    "        # use if/else statement:\r\n",
    "        # if the element in the list is in the age range [low_age,high_age), it is counted.\r\n",
    "        if list_male[i][0] < high_age and list_male[i][0] >= low_age:\r\n",
    "            count_male = count_male + 1\r\n",
    "    print (f\"The number of patients who are at least {low_age} years old but are strictly less than {high_age} years old is {count_male}.\")"
   ],
   "outputs": [],
   "metadata": {}
  },
  {
   "cell_type": "code",
   "execution_count": 146,
   "source": [
    "# compare the results of bisection and for loop.\r\n",
    "bisection_age_range_and_male(tuple_sorted_by_age2,list_male,50,70)\r\n",
    "for_loop_age_range_and_male(tuple_sorted_by_age2,50,70)\r\n",
    "\r\n",
    "bisection_age_range_and_male(tuple_sorted_by_age2,list_male,20,60)\r\n",
    "for_loop_age_range_and_male(tuple_sorted_by_age2,20,60)\r\n",
    "\r\n",
    "bisection_age_range_and_male(tuple_sorted_by_age2,list_male,33,77)\r\n",
    "for_loop_age_range_and_male(tuple_sorted_by_age2,33,77)"
   ],
   "outputs": [
    {
     "output_type": "stream",
     "name": "stdout",
     "text": [
      "The number of all patients who are at least 50 years old but are strictly less than 70 years old is 74894.\n",
      "The number of male patients who are at least 50 years old but are strictly less than 70 years old is 35768.\n",
      "The number of patients who are at least 50 years old but are strictly less than 70 years old is 74894.\n",
      "The number of patients who are at least 50 years old but are strictly less than 70 years old is 35768.\n",
      "The number of all patients who are at least 20 years old but are strictly less than 60 years old is 169212.\n",
      "The number of male patients who are at least 20 years old but are strictly less than 60 years old is 83542.\n",
      "The number of patients who are at least 20 years old but are strictly less than 60 years old is 169212.\n",
      "The number of patients who are at least 20 years old but are strictly less than 60 years old is 83542.\n",
      "The number of all patients who are at least 33 years old but are strictly less than 77 years old is 166080.\n",
      "The number of male patients who are at least 33 years old but are strictly less than 77 years old is 80192.\n",
      "The number of patients who are at least 33 years old but are strictly less than 77 years old is 166080.\n",
      "The number of patients who are at least 33 years old but are strictly less than 77 years old is 80192.\n"
     ]
    }
   ],
   "metadata": {}
  }
 ],
 "metadata": {
  "orig_nbformat": 4,
  "language_info": {
   "name": "python",
   "version": "3.9.7",
   "mimetype": "text/x-python",
   "codemirror_mode": {
    "name": "ipython",
    "version": 3
   },
   "pygments_lexer": "ipython3",
   "nbconvert_exporter": "python",
   "file_extension": ".py"
  },
  "kernelspec": {
   "name": "python3",
   "display_name": "Python 3.9.7 64-bit"
  },
  "interpreter": {
   "hash": "bd4c67ef142469da7dc4d338a32ac40116904d26076b8e6aa587d80720bc6a2b"
  }
 },
 "nbformat": 4,
 "nbformat_minor": 2
}