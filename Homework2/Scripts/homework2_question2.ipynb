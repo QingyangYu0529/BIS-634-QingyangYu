{
 "cells": [
  {
   "cell_type": "code",
   "execution_count": 1,
   "source": [
    "# import module SeqIO from library Bio.\r\n",
    "from Bio import SeqIO\r\n",
    "human_genome = SeqIO.parse(\"GCA_000001405.28_GRCh38.p13_genomic.fna\", \"fasta\")\r\n",
    "for chromosome in human_genome:\r\n",
    "    if chromosome.name == \"CM000664.2\":\r\n",
    "        # utf8_sequence is a byte string of lower-cased letters encoded by utf8.\r\n",
    "        utf8_sequence = str(chromosome.seq).lower().encode('utf8')"
   ],
   "outputs": [],
   "metadata": {}
  },
  {
   "cell_type": "code",
   "execution_count": 3,
   "source": [
    "# define the function count_contain_2N.\r\n",
    "def count_contain_2N(sequence):\r\n",
    "    # use variable count to save the number of total subsequences that do not contain more than 2Ns.\r\n",
    "    # use variable count_n to save the number of Ns in each subsequences.\r\n",
    "    count = 0\r\n",
    "    count_n = 0\r\n",
    "    # use two for loop to traverse the whole genome sequence.\r\n",
    "    for i in range(0,len(sequence)-14):\r\n",
    "        # loop through each 15-mer in the whole genome sequence, if the nucleotide is n, count_n increases by 1.\r\n",
    "        for j in range(i, i + 15):\r\n",
    "            if sequence[j] == 110:\r\n",
    "                count_n = count_n + 1\r\n",
    "        # if the number of Ns in the 15-mer less than or equal to 2, count increases by 1.\r\n",
    "        if count_n <= 2:\r\n",
    "            count = count + 1\r\n",
    "            # reset the count_n to zero for a new loop through.\r\n",
    "            count_n = 0\r\n",
    "        else:\r\n",
    "            # reset the count_n to zero for a new loop through.\r\n",
    "            count_n = 0\r\n",
    "            \r\n",
    "    print(f\"{count} subsequences do not contain more than 2Ns.\")\r\n"
   ],
   "outputs": [],
   "metadata": {}
  },
  {
   "cell_type": "code",
   "execution_count": 215,
   "source": [
    "count_contain_2N(utf8_sequence)"
   ],
   "outputs": [
    {
     "output_type": "stream",
     "name": "stdout",
     "text": [
      "240548031 subsequences do not contain more than 2Ns.\n"
     ]
    }
   ],
   "metadata": {}
  },
  {
   "cell_type": "code",
   "execution_count": 10,
   "source": [
    "p = 2_549_536_629_329\r\n",
    "bits_48 = 2 ** 48 - 1\r\n",
    "scale = 0x07ffffffff\r\n",
    "from hashlib import sha256\r\n",
    "def get_ath_hash(a):\r\n",
    "    def my_hash(subseq):\r\n",
    "        return (((int(sha256(subseq).hexdigest(), 16) % bits_48) * a) % p) & scale\r\n",
    "    return my_hash"
   ],
   "outputs": [],
   "metadata": {}
  },
  {
   "cell_type": "code",
   "execution_count": 11,
   "source": [
    "# use 1 hash function for a try.\r\n",
    "first_hash = get_ath_hash(1)\r\n",
    "sample_subsequence = utf8_sequence[0:15]\r\n",
    "# set the minimum hash value as the hash value of first 15-mer in the total sequence.\r\n",
    "min_h_1 = first_hash(sample_subsequence)"
   ],
   "outputs": [],
   "metadata": {}
  },
  {
   "cell_type": "code",
   "execution_count": 51,
   "source": [
    "# use for loop to loop through the sequence, find the minimum hash value and save into the variable min_h_1.\r\n",
    "for i in range(0,len(utf8_sequence)-14):\r\n",
    "    h = first_hash(utf8_sequence[i:i+15])\r\n",
    "    if h < min_h_1:\r\n",
    "        min_h_1 = h"
   ],
   "outputs": [],
   "metadata": {}
  },
  {
   "cell_type": "code",
   "execution_count": 12,
   "source": [
    "# scale the minimum hash value into a number between 0 and 1.\r\n",
    "scale_min_h_1 = min_h_1/0x07ffffffff\r\n",
    "# calculate the number of distinct 15-mers.\r\n",
    "distinct_num_15_mer_1 = round((1/scale_min_h_1) - 1)\r\n",
    "print(f\"The number of distinct 15-mers using 1 hash functions is {distinct_num_15_mer_1}.\")"
   ],
   "outputs": [
    {
     "output_type": "stream",
     "name": "stdout",
     "text": [
      "The number of distinct 15-mers using 1 hash functions is 2.\n"
     ]
    }
   ],
   "metadata": {}
  },
  {
   "cell_type": "code",
   "execution_count": 13,
   "source": [
    "# use 100 hash function.\r\n",
    "hundredth_hash = get_ath_hash(100)\r\n",
    "# set the minimum hash value as the hash value of first 15-mer in the total sequence.\r\n",
    "sample_subsequence = utf8_sequence[0:15]\r\n",
    "min_h_100 = hundredth_hash(sample_subsequence)"
   ],
   "outputs": [],
   "metadata": {}
  },
  {
   "cell_type": "code",
   "execution_count": 14,
   "source": [
    "# use for loop to loop through the sequence, find the minimum hash value and save into the variable min_h_100.\r\n",
    "for i in range(0,len(utf8_sequence)-14):\r\n",
    "    h = hundredth_hash(utf8_sequence[i:i+15])\r\n",
    "    if h < min_h_100:\r\n",
    "        min_h_100 = h"
   ],
   "outputs": [],
   "metadata": {}
  },
  {
   "cell_type": "code",
   "execution_count": 15,
   "source": [
    "# scale the minimum hash value into a number between 0 and 1.\r\n",
    "scale_min_h_100 = min_h_100/0x07ffffffff\r\n",
    "# calculate the number of distinct 15-mers.\r\n",
    "distinct_num_15_mer_100 = round((1/scale_min_h_100) - 1)\r\n",
    "print(f\"The number of distinct 15-mers using 100 hash functions is {distinct_num_15_mer_100}.\")"
   ],
   "outputs": [
    {
     "output_type": "stream",
     "name": "stdout",
     "text": [
      "The number of distinct 15-mers using 100 hash functions is 429496729.\n"
     ]
    }
   ],
   "metadata": {}
  },
  {
   "cell_type": "code",
   "execution_count": 5,
   "source": [
    "# import library numpy.\r\n",
    "import numpy as np"
   ],
   "outputs": [],
   "metadata": {}
  },
  {
   "cell_type": "code",
   "execution_count": 16,
   "source": [
    "# define the function calculate_min_h(), which is used to return the median of the minimum hashes.\r\n",
    "def calculate_min_h(sequence,a):\r\n",
    "    # create list min_h_list, to save the values of minimum hashes.\r\n",
    "    min_h_list = []\r\n",
    "    for i in range(1,a+1):\r\n",
    "        each_hash = get_ath_hash(i)\r\n",
    "        # randomly set the value of min_h.\r\n",
    "        min_h = each_hash(sequence[0:15])\r\n",
    "        # use for loop to find the minimum hash value, save into the variable min_h.\r\n",
    "        for j in range(0,len(sequence)-14):\r\n",
    "            h = each_hash(sequence[j:j+15])\r\n",
    "            if h < min_h:\r\n",
    "                min_h = h\r\n",
    "        # save all the minimum hash values into the list min_h_list.\r\n",
    "        min_h_list.append(min_h)\r\n",
    "    # return the median of the minimum hash values\r\n",
    "    return np.median(min_h_list)   \r\n"
   ],
   "outputs": [],
   "metadata": {}
  },
  {
   "cell_type": "code",
   "execution_count": 17,
   "source": [
    "def distinct_num_15_mer(sequence,a):\r\n",
    "    median_min_hn = calculate_min_h(sequence,a)\r\n",
    "    # scaling.\r\n",
    "    scale_median_min_hn = median_min_hn/0x07ffffffff\r\n",
    "    distinct_num_15_mer = round(1/scale_median_min_hn - 1)\r\n",
    "    if(a == 1):\r\n",
    "        print(f\"The number of distinct subsequence of sequence with a in range of {a} is {distinct_num_15_mer}.\")\r\n",
    "    elif(a > 1):\r\n",
    "        print(f\"The number of distinct subsequence of sequence with a in range of (1,...,{a}) is {distinct_num_15_mer}.\")"
   ],
   "outputs": [],
   "metadata": {}
  },
  {
   "cell_type": "code",
   "execution_count": 19,
   "source": [
    "distinct_num_15_mer(utf8_sequence,1)"
   ],
   "outputs": [
    {
     "output_type": "stream",
     "name": "stdout",
     "text": [
      "The number of distinct subsequence of sequence with a in range of 1 is 66076419.\n"
     ]
    }
   ],
   "metadata": {}
  },
  {
   "cell_type": "code",
   "execution_count": 75,
   "source": [
    "distinct_num_15_mer(utf8_sequence,10)"
   ],
   "outputs": [
    {
     "output_type": "stream",
     "name": "stdout",
     "text": [
      "The number of distinct subsequence of sequence with a in range of (1,...,10) is 138827225.\n"
     ]
    }
   ],
   "metadata": {}
  },
  {
   "cell_type": "code",
   "execution_count": 21,
   "source": [
    "distinct_num_15_mer(utf8_sequence,100)"
   ],
   "outputs": [
    {
     "output_type": "stream",
     "name": "stdout",
     "text": [
      "The number of distinct subsequence of sequence with a in range of (1,...,100) is 201523391.\n"
     ]
    }
   ],
   "metadata": {}
  },
  {
   "cell_type": "code",
   "execution_count": 154,
   "source": [
    "# testing code:\r\n",
    "# import library random.\r\n",
    "import random\r\n",
    "random.seed(1)\r\n",
    "# define function random_fake_sequence(), which is used to randomly generate nucleotide sequence with defined length. \r\n",
    "def random_fake_sequence(length):\r\n",
    "    nucleic_acid = ['a','t','c','g','n']\r\n",
    "    fake_sequence_list = []\r\n",
    "    for i in range(0,length):\r\n",
    "        fake_sequence_list.append(random.choice(nucleic_acid))\r\n",
    "        # use join() to connect nucleic acids together into fake sequence.\r\n",
    "        fake_sequence = \"\".join(fake_sequence_list)\r\n",
    "    # encode fake sequence with utf8, so that it could use hash function.\r\n",
    "    fake_sequence = fake_sequence.encode('utf8')\r\n",
    "    return fake_sequence"
   ],
   "outputs": [],
   "metadata": {}
  },
  {
   "cell_type": "code",
   "execution_count": 155,
   "source": [
    "# define function split_into_subsequence(), which is used to split the fake sequence into 15-mers.\r\n",
    "def split_into_subsequence(sequence):\r\n",
    "    subsequence_list = []\r\n",
    "    subsequence = []\r\n",
    "    sequence = sequence.decode('utf8')\r\n",
    "    for i in range(0,len(sequence)-14):\r\n",
    "        for j in range(i, i + 15):\r\n",
    "            # extract 15 nucleic acids and save into the list subsequence_list.\r\n",
    "            subsequence_list.append(sequence[j])\r\n",
    "        # use join() to connect nucleic acids together into 15-mers.\r\n",
    "        subsequence_each = \"\".join(subsequence_list)\r\n",
    "        # save each 15-mer into the list subsequence.\r\n",
    "        subsequence.append(subsequence_each)\r\n",
    "        # clear the list subsequence_list for a new loop through.\r\n",
    "        subsequence_list.clear()\r\n",
    "    return subsequence"
   ],
   "outputs": [],
   "metadata": {}
  },
  {
   "cell_type": "code",
   "execution_count": 156,
   "source": [
    "# generate fake sequences that is 1000, 10000, 100000 long.\r\n",
    "fake_sequence_1000 = random_fake_sequence(1000)\r\n",
    "fake_sequence_10000 = random_fake_sequence(10000)\r\n",
    "fake_sequence_100000 = random_fake_sequence(100000)\r\n",
    "# split each fake sequence into 15-mers, save into the list fake_subsequence.\r\n",
    "fake_subsequence_1000 = split_into_subsequence(fake_sequence_1000)\r\n",
    "fake_subsequence_10000 = split_into_subsequence(fake_sequence_10000)\r\n",
    "fake_subsequence_100000 = split_into_subsequence(fake_sequence_100000)"
   ],
   "outputs": [],
   "metadata": {}
  },
  {
   "cell_type": "code",
   "execution_count": 157,
   "source": [
    "# estimate the number of distinct 15-mers in fake_sequence_1000 using hash function.\r\n",
    "distinct_num_15_mer(fake_sequence_1000,1)\r\n",
    "distinct_num_15_mer(fake_sequence_1000,10)\r\n",
    "distinct_num_15_mer(fake_sequence_1000,100)"
   ],
   "outputs": [
    {
     "output_type": "stream",
     "name": "stdout",
     "text": [
      "The number of distinct subsequence of sequence with a in range of 1 is 7239.\n",
      "The number of distinct subsequence of sequence with a in range of (1,...,10) is 2955.\n",
      "The number of distinct subsequence of sequence with a in range of (1,...,100) is 1376.\n"
     ]
    }
   ],
   "metadata": {}
  },
  {
   "cell_type": "code",
   "execution_count": 158,
   "source": [
    "# estimate the number of distinct 15-mers in fake_sequence_10000 using hash function.\r\n",
    "distinct_num_15_mer(fake_sequence_10000,1)\r\n",
    "distinct_num_15_mer(fake_sequence_10000,10)\r\n",
    "distinct_num_15_mer(fake_sequence_10000,100)"
   ],
   "outputs": [
    {
     "output_type": "stream",
     "name": "stdout",
     "text": [
      "The number of distinct subsequence of sequence with a in range of 1 is 43241.\n",
      "The number of distinct subsequence of sequence with a in range of (1,...,10) is 28767.\n",
      "The number of distinct subsequence of sequence with a in range of (1,...,100) is 15860.\n"
     ]
    }
   ],
   "metadata": {}
  },
  {
   "cell_type": "code",
   "execution_count": 159,
   "source": [
    "# estimate the number of distinct 15-mers in fake_sequence_100000 using hash function.\r\n",
    "distinct_num_15_mer(fake_sequence_100000,1)\r\n",
    "distinct_num_15_mer(fake_sequence_100000,10)\r\n",
    "distinct_num_15_mer(fake_sequence_100000,100)"
   ],
   "outputs": [
    {
     "output_type": "stream",
     "name": "stdout",
     "text": [
      "The number of distinct subsequence of sequence with a in range of 1 is 798320.\n",
      "The number of distinct subsequence of sequence with a in range of (1,...,10) is 80436.\n",
      "The number of distinct subsequence of sequence with a in range of (1,...,100) is 139205.\n"
     ]
    }
   ],
   "metadata": {}
  },
  {
   "cell_type": "code",
   "execution_count": 132,
   "source": [
    "# define function num_distinct_subsequence(), which is used to test the results of function distinct_num_15_mer().\r\n",
    "def num_distinct_subsequence(fake_subsequence,length):\r\n",
    "    # turn the list fake_subsequence into set, to remove the duplicate 15-mers.\r\n",
    "    fake_subsequence_set = set(fake_subsequence)\r\n",
    "    # the length of the set is the number of distinct 15-mers.\r\n",
    "    num_distinct_subsequence = len(fake_subsequence_set)\r\n",
    "    \r\n",
    "    print(f\"The actual number of distinct subsequence in fake subsequence({length} nucleotides) is {num_distinct_subsequence}.\")"
   ],
   "outputs": [],
   "metadata": {}
  },
  {
   "cell_type": "code",
   "execution_count": 160,
   "source": [
    "# show the actual number of distinct 15-mers in fake_sequence_1000, fake_sequence_10000, fake_sequence_100000.\r\n",
    "num_distinct_subsequence(fake_subsequence_1000,1000)\r\n",
    "num_distinct_subsequence(fake_subsequence_10000,10000)\r\n",
    "num_distinct_subsequence(fake_subsequence_100000,100000)"
   ],
   "outputs": [
    {
     "output_type": "stream",
     "name": "stdout",
     "text": [
      "The actual number of distinct subsequence in fake subsequence(1000 nucleotides) is 986.\n",
      "The actual number of distinct subsequence in fake subsequence(10000 nucleotides) is 9986.\n",
      "The actual number of distinct subsequence in fake subsequence(100000 nucleotides) is 99986.\n"
     ]
    }
   ],
   "metadata": {}
  },
  {
   "cell_type": "code",
   "execution_count": 161,
   "source": [
    "# get short_sequence_1000, short_sequence_10000, short_sequence_100000, which are the first 1000, 10000, 100000 of the total sequence.\r\n",
    "short_sequence_1000 = utf8_sequence[0:1000]\r\n",
    "short_sequence_10000 = utf8_sequence[0:10000]\r\n",
    "short_sequence_100000 = utf8_sequence[0:100000]\r\n",
    "short_sequence_1000000 = utf8_sequence[0:1000000]\r\n",
    "short_subsequence_1000 = split_into_subsequence(short_sequence_1000)\r\n",
    "short_subsequence_10000 = split_into_subsequence(short_sequence_10000)\r\n",
    "short_subsequence_100000 = split_into_subsequence(short_sequence_100000)\r\n",
    "short_subsequence_1000000 = split_into_subsequence(short_sequence_1000000)"
   ],
   "outputs": [],
   "metadata": {}
  },
  {
   "cell_type": "code",
   "execution_count": 139,
   "source": [
    "# estimate the number of distinct 15-mers in short_sequence_1000 using hash function.\r\n",
    "distinct_num_15_mer(short_sequence_1000,1)\r\n",
    "distinct_num_15_mer(short_sequence_1000,10)\r\n",
    "distinct_num_15_mer(short_sequence_1000,100)"
   ],
   "outputs": [
    {
     "output_type": "stream",
     "name": "stdout",
     "text": [
      "The number of distinct subsequence of sequence with a in range of 1 is 2.\n",
      "The number of distinct subsequence of sequence with a in range of (1,...,10) is 2.\n",
      "The number of distinct subsequence of sequence with a in range of (1,...,100) is 1.\n"
     ]
    }
   ],
   "metadata": {}
  },
  {
   "cell_type": "code",
   "execution_count": 140,
   "source": [
    "# estimate the number of distinct 15-mers in short_sequence_10000 using hash function.\r\n",
    "distinct_num_15_mer(short_sequence_10000,1)\r\n",
    "distinct_num_15_mer(short_sequence_10000,10)\r\n",
    "distinct_num_15_mer(short_sequence_10000,100)"
   ],
   "outputs": [
    {
     "output_type": "stream",
     "name": "stdout",
     "text": [
      "The number of distinct subsequence of sequence with a in range of 1 is 2.\n",
      "The number of distinct subsequence of sequence with a in range of (1,...,10) is 2.\n",
      "The number of distinct subsequence of sequence with a in range of (1,...,100) is 1.\n"
     ]
    }
   ],
   "metadata": {}
  },
  {
   "cell_type": "code",
   "execution_count": 141,
   "source": [
    "# estimate the number of distinct 15-mers in short_sequence_100000 using hash function.\r\n",
    "distinct_num_15_mer(short_sequence_100000,1)\r\n",
    "distinct_num_15_mer(short_sequence_100000,10)\r\n",
    "distinct_num_15_mer(short_sequence_100000,100)"
   ],
   "outputs": [
    {
     "output_type": "stream",
     "name": "stdout",
     "text": [
      "The number of distinct subsequence of sequence with a in range of 1 is 127919.\n",
      "The number of distinct subsequence of sequence with a in range of (1,...,10) is 78723.\n",
      "The number of distinct subsequence of sequence with a in range of (1,...,100) is 118780.\n"
     ]
    }
   ],
   "metadata": {}
  },
  {
   "cell_type": "code",
   "execution_count": 162,
   "source": [
    "# estimate the number of distinct 15-mers in short_sequence_1000000 using hash function.\r\n",
    "distinct_num_15_mer(short_sequence_1000000,1)\r\n",
    "distinct_num_15_mer(short_sequence_1000000,10)\r\n",
    "distinct_num_15_mer(short_sequence_1000000,100)"
   ],
   "outputs": [
    {
     "output_type": "stream",
     "name": "stdout",
     "text": [
      "The number of distinct subsequence of sequence with a in range of 1 is 922557.\n",
      "The number of distinct subsequence of sequence with a in range of (1,...,10) is 1179935.\n",
      "The number of distinct subsequence of sequence with a in range of (1,...,100) is 1487498.\n"
     ]
    }
   ],
   "metadata": {}
  },
  {
   "cell_type": "code",
   "execution_count": 165,
   "source": [
    "# show the actual number of distinct 15-mers in short_sequence_1000, short_sequence_10000, short_sequence_100000, short_sequence_1000000.\r\n",
    "num_distinct_subsequence(short_subsequence_1000,1000)\r\n",
    "num_distinct_subsequence(short_subsequence_10000,10000)\r\n",
    "num_distinct_subsequence(short_subsequence_100000,100000)\r\n",
    "num_distinct_subsequence(short_subsequence_1000000,1000000)"
   ],
   "outputs": [
    {
     "output_type": "stream",
     "name": "stdout",
     "text": [
      "The actual number of distinct subsequence in fake subsequence(1000 nucleotides) is 1.\n",
      "The actual number of distinct subsequence in fake subsequence(10000 nucleotides) is 1.\n",
      "The actual number of distinct subsequence in fake subsequence(100000 nucleotides) is 87191.\n",
      "The actual number of distinct subsequence in fake subsequence(1000000 nucleotides) is 931157.\n"
     ]
    }
   ],
   "metadata": {}
  }
 ],
 "metadata": {
  "orig_nbformat": 4,
  "language_info": {
   "name": "python",
   "version": "3.9.7",
   "mimetype": "text/x-python",
   "codemirror_mode": {
    "name": "ipython",
    "version": 3
   },
   "pygments_lexer": "ipython3",
   "nbconvert_exporter": "python",
   "file_extension": ".py"
  },
  "kernelspec": {
   "name": "python3",
   "display_name": "Python 3.9.7 64-bit"
  },
  "interpreter": {
   "hash": "bd4c67ef142469da7dc4d338a32ac40116904d26076b8e6aa587d80720bc6a2b"
  }
 },
 "nbformat": 4,
 "nbformat_minor": 2
}