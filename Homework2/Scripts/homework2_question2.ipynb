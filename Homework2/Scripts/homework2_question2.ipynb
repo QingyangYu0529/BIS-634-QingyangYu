{
 "cells": [
  {
   "cell_type": "code",
   "execution_count": 4,
   "source": [
    "# import module SeqIO from library Bio.\r\n",
    "from Bio import SeqIO\r\n",
    "human_genome = SeqIO.parse(\"GCA_000001405.28_GRCh38.p13_genomic.fna\", \"fasta\")\r\n",
    "for chromosome in human_genome:\r\n",
    "    if chromosome.name == \"CM000664.2\":\r\n",
    "        utf8_sequence = str(chromosome.seq).lower().encode('utf8')"
   ],
   "outputs": [],
   "metadata": {}
  },
  {
   "cell_type": "code",
   "execution_count": 214,
   "source": [
    "# define the function count_contain_2N.\r\n",
    "def count_contain_2N(sequence):\r\n",
    "    # use variable count to save the number of total subsequences that do not contain more than 2Ns.\r\n",
    "    # use variable count_n to save the number of Ns in each subsequences.\r\n",
    "    count = 0\r\n",
    "    count_n = 0\r\n",
    "    # use two for loop to traverse the whole genome sequence.\r\n",
    "    for i in range(0,len(sequence)-14):\r\n",
    "        for j in range(i, i + 15):\r\n",
    "            if sequence[j] == 110:\r\n",
    "                count_n = count_n + 1\r\n",
    "        if count_n <= 2:\r\n",
    "            count = count + 1\r\n",
    "            count_n = 0\r\n",
    "        else:\r\n",
    "            count_n = 0\r\n",
    "    print(f\"{count} subsequences do not contain more than 2Ns.\")\r\n"
   ],
   "outputs": [],
   "metadata": {}
  },
  {
   "cell_type": "code",
   "execution_count": 215,
   "source": [
    "count_contain_2N(utf8_sequence)"
   ],
   "outputs": [
    {
     "output_type": "stream",
     "name": "stdout",
     "text": [
      "240548031 subsequences do not contain more than 2Ns.\n"
     ]
    }
   ],
   "metadata": {}
  },
  {
   "cell_type": "code",
   "execution_count": 216,
   "source": [
    "p = 2_549_536_629_329\r\n",
    "bits_48 = 2 ** 48 - 1\r\n",
    "scale = 0x07ffffffff\r\n",
    "from hashlib import sha256\r\n",
    "def get_ath_hash(a):\r\n",
    "    def my_hash(subseq):\r\n",
    "        return (((int(sha256(subseq).hexdigest(), 16) % bits_48) * a) % p) & scale\r\n",
    "    return my_hash"
   ],
   "outputs": [],
   "metadata": {}
  },
  {
   "cell_type": "code",
   "execution_count": 217,
   "source": [
    "# use 1 hash function.\r\n",
    "first_hash = get_ath_hash(1)\r\n",
    "sample_subsequence = utf8_sequence[0:15]\r\n",
    "first_hash(sample_subsequence)\r\n",
    "min_h_1 = first_hash(sample_subsequence)"
   ],
   "outputs": [],
   "metadata": {}
  },
  {
   "cell_type": "code",
   "execution_count": 218,
   "source": [
    "for i in range(0,len(utf8_sequence)-15):\r\n",
    "    h = first_hash(utf8_sequence[i:i+15])\r\n",
    "    if h < min_h_1:\r\n",
    "        min_h_1 = h\r\n",
    "\r\n",
    "min_h_1"
   ],
   "outputs": [
    {
     "output_type": "execute_result",
     "data": {
      "text/plain": [
       "520"
      ]
     },
     "metadata": {},
     "execution_count": 218
    }
   ],
   "metadata": {}
  },
  {
   "cell_type": "code",
   "execution_count": 38,
   "source": [
    "# use 100 hash function.\r\n",
    "hundredth_hash = get_ath_hash(100)\r\n",
    "sample_subsequence = utf8_sequence[0:15]\r\n",
    "hundredth_hash(sample_subsequence)\r\n",
    "min_h_100 = hundredth_hash(sample_subsequence)"
   ],
   "outputs": [],
   "metadata": {}
  },
  {
   "cell_type": "code",
   "execution_count": 39,
   "source": [
    "for i in range(0,len(utf8_sequence)-15):\r\n",
    "    h = hundredth_hash(utf8_sequence[i:i+15])\r\n",
    "    if h < min_h_100:\r\n",
    "        min_h_100 = h\r\n",
    "\r\n",
    "min_h_100"
   ],
   "outputs": [
    {
     "output_type": "execute_result",
     "data": {
      "text/plain": [
       "80"
      ]
     },
     "metadata": {},
     "execution_count": 39
    }
   ],
   "metadata": {}
  },
  {
   "cell_type": "code",
   "execution_count": 144,
   "source": [
    "import numpy as np\r\n",
    "def calculate_min_h(sequence,a):\r\n",
    "    min_h_list = []\r\n",
    "    for i in range(1,a+1):\r\n",
    "        each_hash = get_ath_hash(i)\r\n",
    "        # randomly set the value of min_h.\r\n",
    "        min_h = each_hash(sequence[0:15])\r\n",
    "        for j in range(0,len(sequence)-15):\r\n",
    "            h = each_hash(sequence[j:j+15])\r\n",
    "            if h < min_h:\r\n",
    "                min_h = h\r\n",
    "        min_h_list.append(min_h)\r\n",
    "    return np.median(min_h_list)   \r\n"
   ],
   "outputs": [],
   "metadata": {}
  },
  {
   "cell_type": "code",
   "execution_count": 2,
   "source": [
    "def distinct_num_15_mer(sequence,a):\r\n",
    "    median_min_hn = calculate_min_h(sequence,a)\r\n",
    "    # scaling.\r\n",
    "    scale_median_min_hn = median_min_hn/0x07ffffffff\r\n",
    "    distinct_num_15_mer = round(1/scale_median_min_hn - 1)\r\n",
    "    print(f\"The number of distinct subsequence of {sequence} with a in range of (1,{a}) is {distinct_num_15_mer}.\")"
   ],
   "outputs": [],
   "metadata": {}
  },
  {
   "cell_type": "code",
   "execution_count": 3,
   "source": [
    "distinct_num_15_mer(utf8_sequence,1)"
   ],
   "outputs": [
    {
     "output_type": "error",
     "ename": "NameError",
     "evalue": "name 'utf8_sequence' is not defined",
     "traceback": [
      "\u001b[1;31m---------------------------------------------------------------------------\u001b[0m",
      "\u001b[1;31mNameError\u001b[0m                                 Traceback (most recent call last)",
      "\u001b[1;32m~\\AppData\\Local\\Temp/ipykernel_50444/2740031249.py\u001b[0m in \u001b[0;36m<module>\u001b[1;34m\u001b[0m\n\u001b[1;32m----> 1\u001b[1;33m \u001b[0mdistinct_num_15_mer\u001b[0m\u001b[1;33m(\u001b[0m\u001b[0mutf8_sequence\u001b[0m\u001b[1;33m,\u001b[0m\u001b[1;36m1\u001b[0m\u001b[1;33m)\u001b[0m\u001b[1;33m\u001b[0m\u001b[1;33m\u001b[0m\u001b[0m\n\u001b[0m",
      "\u001b[1;31mNameError\u001b[0m: name 'utf8_sequence' is not defined"
     ]
    }
   ],
   "metadata": {}
  },
  {
   "cell_type": "code",
   "execution_count": 147,
   "source": [
    "distinct_num_15_mer(utf8_sequence,10)"
   ],
   "outputs": [
    {
     "output_type": "execute_result",
     "data": {
      "text/plain": [
       "138827225"
      ]
     },
     "metadata": {},
     "execution_count": 147
    }
   ],
   "metadata": {}
  },
  {
   "cell_type": "code",
   "execution_count": 148,
   "source": [
    "distinct_num_15_mer(utf8_sequence,100)"
   ],
   "outputs": [
    {
     "output_type": "execute_result",
     "data": {
      "text/plain": [
       "201523391"
      ]
     },
     "metadata": {},
     "execution_count": 148
    }
   ],
   "metadata": {}
  },
  {
   "cell_type": "code",
   "execution_count": 269,
   "source": [
    "import random\r\n",
    "def random_fake_sequence(length):\r\n",
    "    nucleic_acid = ['a','t','c','g','n']\r\n",
    "    fake_sequence_list = []\r\n",
    "    for i in range(0,length):\r\n",
    "        fake_sequence_list.append(random.choice(nucleic_acid))\r\n",
    "        fake_sequence = \"\".join(fake_sequence_list)\r\n",
    "    fake_sequence = fake_sequence.encode('utf8')\r\n",
    "    return fake_sequence"
   ],
   "outputs": [],
   "metadata": {}
  },
  {
   "cell_type": "code",
   "execution_count": 270,
   "source": [
    "def split_into_subsequence(sequence):\r\n",
    "    subsequence_list = []\r\n",
    "    subsequence = []\r\n",
    "    sequence = sequence.decode('utf8')\r\n",
    "    for i in range(0,len(sequence)-14):\r\n",
    "        for j in range(i, i + 15):\r\n",
    "            subsequence_list.append(sequence[j])\r\n",
    "        subsequence_each = \"\".join(subsequence_list)\r\n",
    "        subsequence.append(subsequence_each)\r\n",
    "        subsequence_list.clear()\r\n",
    "    return subsequence"
   ],
   "outputs": [],
   "metadata": {}
  },
  {
   "cell_type": "code",
   "execution_count": 288,
   "source": [
    "fake_sequence_1000 = random_fake_sequence(1000)\r\n",
    "fake_sequence_10000 = random_fake_sequence(10000)\r\n",
    "fake_sequence_100000 = random_fake_sequence(100000)"
   ],
   "outputs": [],
   "metadata": {}
  },
  {
   "cell_type": "code",
   "execution_count": 289,
   "source": [
    "fake_subsequence_1000 = split_into_subsequence(fake_sequence_1000)\r\n",
    "fake_subsequence_10000 = split_into_subsequence(fake_sequence_10000)\r\n",
    "fake_subsequence_100000 = split_into_subsequence(fake_sequence_100000)"
   ],
   "outputs": [],
   "metadata": {}
  },
  {
   "cell_type": "code",
   "execution_count": 290,
   "source": [
    "def num_distinct_subsequence(fake_subsequence,length):\r\n",
    "    fake_subsequence_set = set(fake_subsequence)\r\n",
    "    num_distinct_subsequence = len(fake_subsequence_set)\r\n",
    "    print(f\"The actual number of distinct subsequence in fake subsequence({length} nucleotides) is {num_distinct_subsequence}.\")"
   ],
   "outputs": [],
   "metadata": {}
  },
  {
   "cell_type": "code",
   "execution_count": 291,
   "source": [
    "num_distinct_subsequence(fake_subsequence_1000,1000)\r\n",
    "num_distinct_subsequence(fake_subsequence_10000,10000)\r\n",
    "num_distinct_subsequence(fake_subsequence_100000,100000)"
   ],
   "outputs": [
    {
     "output_type": "stream",
     "name": "stdout",
     "text": [
      "The actual number of distinct subsequence in fake subsequence(1000 nucleotides) is 986.\n",
      "The actual number of distinct subsequence in fake subsequence(10000 nucleotides) is 9986.\n",
      "The actual number of distinct subsequence in fake subsequence(100000 nucleotides) is 99986.\n"
     ]
    }
   ],
   "metadata": {}
  },
  {
   "cell_type": "code",
   "execution_count": 242,
   "source": [
    "distinct_num_15_mer(fake_sequence_10000,1)"
   ],
   "outputs": [
    {
     "output_type": "execute_result",
     "data": {
      "text/plain": [
       "7411"
      ]
     },
     "metadata": {},
     "execution_count": 242
    }
   ],
   "metadata": {}
  },
  {
   "cell_type": "code",
   "execution_count": 243,
   "source": [
    "distinct_num_15_mer(fake_sequence_10000,10)"
   ],
   "outputs": [
    {
     "output_type": "execute_result",
     "data": {
      "text/plain": [
       "7861"
      ]
     },
     "metadata": {},
     "execution_count": 243
    }
   ],
   "metadata": {}
  },
  {
   "cell_type": "code",
   "execution_count": 244,
   "source": [
    "distinct_num_15_mer(fake_sequence_10000,100)"
   ],
   "outputs": [
    {
     "output_type": "execute_result",
     "data": {
      "text/plain": [
       "12774"
      ]
     },
     "metadata": {},
     "execution_count": 244
    }
   ],
   "metadata": {}
  },
  {
   "cell_type": "code",
   "execution_count": 246,
   "source": [
    "distinct_num_15_mer(fake_sequence_100000,1)\r\n"
   ],
   "outputs": [
    {
     "output_type": "execute_result",
     "data": {
      "text/plain": [
       "264439"
      ]
     },
     "metadata": {},
     "execution_count": 246
    }
   ],
   "metadata": {}
  },
  {
   "cell_type": "code",
   "execution_count": 247,
   "source": [
    "distinct_num_15_mer(fake_sequence_100000,10)"
   ],
   "outputs": [
    {
     "output_type": "execute_result",
     "data": {
      "text/plain": [
       "120840"
      ]
     },
     "metadata": {},
     "execution_count": 247
    }
   ],
   "metadata": {}
  },
  {
   "cell_type": "code",
   "execution_count": 248,
   "source": [
    "distinct_num_15_mer(fake_sequence_100000,100)"
   ],
   "outputs": [
    {
     "output_type": "execute_result",
     "data": {
      "text/plain": [
       "119018"
      ]
     },
     "metadata": {},
     "execution_count": 248
    }
   ],
   "metadata": {}
  },
  {
   "cell_type": "code",
   "execution_count": 304,
   "source": [
    "short_sequence_1000 = utf8_sequence[0:1000]\r\n",
    "short_sequence_10000 = utf8_sequence[0:10000]\r\n",
    "short_sequence_100000 = utf8_sequence[0:100000]"
   ],
   "outputs": [],
   "metadata": {}
  },
  {
   "cell_type": "code",
   "execution_count": 305,
   "source": [
    "short_subsequence_1000 = split_into_subsequence(short_sequence_1000)\r\n",
    "short_subsequence_10000 = split_into_subsequence(short_sequence_10000)\r\n",
    "short_subsequence_100000 = split_into_subsequence(short_sequence_100000)"
   ],
   "outputs": [],
   "metadata": {}
  },
  {
   "cell_type": "code",
   "execution_count": 306,
   "source": [
    "num_distinct_subsequence(short_subsequence_1000,1000)\r\n",
    "num_distinct_subsequence(short_subsequence_10000,10000)\r\n",
    "num_distinct_subsequence(short_subsequence_100000,100000)"
   ],
   "outputs": [
    {
     "output_type": "stream",
     "name": "stdout",
     "text": [
      "The actual number of distinct subsequence in fake subsequence(1000 nucleotides) is 1.\n",
      "The actual number of distinct subsequence in fake subsequence(10000 nucleotides) is 1.\n",
      "The actual number of distinct subsequence in fake subsequence(100000 nucleotides) is 87191.\n"
     ]
    }
   ],
   "metadata": {}
  },
  {
   "cell_type": "code",
   "execution_count": 309,
   "source": [
    "distinct_num_15_mer(short_sequence_1000,1)"
   ],
   "outputs": [
    {
     "output_type": "execute_result",
     "data": {
      "text/plain": [
       "2"
      ]
     },
     "metadata": {},
     "execution_count": 309
    }
   ],
   "metadata": {}
  },
  {
   "cell_type": "code",
   "execution_count": 310,
   "source": [
    "distinct_num_15_mer(short_sequence_1000,10)"
   ],
   "outputs": [
    {
     "output_type": "execute_result",
     "data": {
      "text/plain": [
       "2"
      ]
     },
     "metadata": {},
     "execution_count": 310
    }
   ],
   "metadata": {}
  },
  {
   "cell_type": "code",
   "execution_count": 311,
   "source": [
    "distinct_num_15_mer(short_sequence_1000,100)"
   ],
   "outputs": [
    {
     "output_type": "execute_result",
     "data": {
      "text/plain": [
       "1"
      ]
     },
     "metadata": {},
     "execution_count": 311
    }
   ],
   "metadata": {}
  },
  {
   "cell_type": "code",
   "execution_count": 312,
   "source": [
    "distinct_num_15_mer(short_sequence_10000,1)"
   ],
   "outputs": [
    {
     "output_type": "execute_result",
     "data": {
      "text/plain": [
       "2"
      ]
     },
     "metadata": {},
     "execution_count": 312
    }
   ],
   "metadata": {}
  },
  {
   "cell_type": "code",
   "execution_count": 313,
   "source": [
    "distinct_num_15_mer(short_sequence_10000,10)"
   ],
   "outputs": [
    {
     "output_type": "execute_result",
     "data": {
      "text/plain": [
       "2"
      ]
     },
     "metadata": {},
     "execution_count": 313
    }
   ],
   "metadata": {}
  },
  {
   "cell_type": "code",
   "execution_count": 314,
   "source": [
    "distinct_num_15_mer(short_sequence_10000,100)"
   ],
   "outputs": [
    {
     "output_type": "execute_result",
     "data": {
      "text/plain": [
       "1"
      ]
     },
     "metadata": {},
     "execution_count": 314
    }
   ],
   "metadata": {}
  },
  {
   "cell_type": "code",
   "execution_count": 315,
   "source": [
    "distinct_num_15_mer(short_sequence_100000,1)"
   ],
   "outputs": [
    {
     "output_type": "execute_result",
     "data": {
      "text/plain": [
       "127919"
      ]
     },
     "metadata": {},
     "execution_count": 315
    }
   ],
   "metadata": {}
  },
  {
   "cell_type": "code",
   "execution_count": 316,
   "source": [
    "distinct_num_15_mer(short_sequence_100000,10)"
   ],
   "outputs": [
    {
     "output_type": "execute_result",
     "data": {
      "text/plain": [
       "78723"
      ]
     },
     "metadata": {},
     "execution_count": 316
    }
   ],
   "metadata": {}
  },
  {
   "cell_type": "code",
   "execution_count": 317,
   "source": [
    "distinct_num_15_mer(short_sequence_100000,100)"
   ],
   "outputs": [
    {
     "output_type": "execute_result",
     "data": {
      "text/plain": [
       "118780"
      ]
     },
     "metadata": {},
     "execution_count": 317
    }
   ],
   "metadata": {}
  }
 ],
 "metadata": {
  "orig_nbformat": 4,
  "language_info": {
   "name": "python",
   "version": "3.9.7",
   "mimetype": "text/x-python",
   "codemirror_mode": {
    "name": "ipython",
    "version": 3
   },
   "pygments_lexer": "ipython3",
   "nbconvert_exporter": "python",
   "file_extension": ".py"
  },
  "kernelspec": {
   "name": "python3",
   "display_name": "Python 3.9.7 64-bit"
  },
  "interpreter": {
   "hash": "bd4c67ef142469da7dc4d338a32ac40116904d26076b8e6aa587d80720bc6a2b"
  }
 },
 "nbformat": 4,
 "nbformat_minor": 2
}