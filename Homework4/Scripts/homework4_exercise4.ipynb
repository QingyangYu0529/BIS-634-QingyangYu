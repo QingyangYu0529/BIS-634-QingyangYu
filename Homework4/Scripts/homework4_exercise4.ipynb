{
 "cells": [
  {
   "cell_type": "code",
   "execution_count": 10,
   "metadata": {},
   "outputs": [],
   "source": [
    "import itertools\n",
    "import numpy as np"
   ]
  },
  {
   "cell_type": "code",
   "execution_count": 11,
   "metadata": {},
   "outputs": [],
   "source": [
    "# function scoring_matrix(), is used to set and calculate the scoring matrix.\n",
    "def scoring_matrix(seq1, seq2, match, mismatch, gap_penalty):\n",
    "    # generate a matrix with zeros, size is (seq1+1)*(seq2+1).\n",
    "    matrix = np.zeros((len(seq1) + 1, len(seq2) + 1), int)\n",
    "\n",
    "    max_score = 0\n",
    "    max_pos = 0\n",
    "    for i, j in itertools.product(range(1, matrix.shape[0]), range(1, matrix.shape[1])):\n",
    "        # if bases in the position[i-1] and [j-1] match each other, add match score.\n",
    "        if seq1[i - 1] == seq2[j - 1]:\n",
    "            match_score = matrix[i - 1, j - 1] + match\n",
    "        # if bases in the position[i-1] and [j-1] do not match each other, substract mismatch score.\n",
    "        else:\n",
    "            match_score = matrix[i - 1, j - 1] - mismatch\n",
    "        # return the value in the position[i-1,j] and [i,j-1], substract gap_penalty.\n",
    "        deletion = matrix[i - 1, j] - gap_penalty\n",
    "        insertion = matrix[i, j - 1] - gap_penalty\n",
    "        # take the largest value among match_score, deletion, insertion and zero.\n",
    "        score = max(match_score, deletion, insertion, 0)\n",
    "        matrix[i, j] = score\n",
    "        # find the position that has largest value in the matrix to traceback.\n",
    "        if score > max_score:\n",
    "            max_score = score\n",
    "            max_pos = (i, j)\n",
    "    print (matrix)\n",
    "    return matrix, max_pos"
   ]
  },
  {
   "cell_type": "code",
   "execution_count": 12,
   "metadata": {},
   "outputs": [],
   "source": [
    "# function next_move() is used to decide the next move when traceback(return as a value).\n",
    "def next_move(matrix, x, y):\n",
    "    diagonal = matrix[x-1][y-1]\n",
    "    up = matrix[x-1][y]\n",
    "    left = matrix[x][y-1]\n",
    "    if diagonal >= up and diagonal >= left:\n",
    "        if diagonal != 0:\n",
    "            # 1 means go to diagonal direction.\n",
    "            return 1\n",
    "            # 0 means end. no more movement.\n",
    "        else: return 0\n",
    "    elif up > diagonal and up >= left:\n",
    "        if up != 0:\n",
    "            # 2 means go to up direction.\n",
    "            return 2\n",
    "        else: return 0\n",
    "    elif left > diagonal and left > up:\n",
    "        if left != 0:\n",
    "            # 3 means go to left direction.\n",
    "            return 3\n",
    "        else: return 0\n",
    "    else:\n",
    "        print(\"error\")"
   ]
  },
  {
   "cell_type": "code",
   "execution_count": 13,
   "metadata": {},
   "outputs": [],
   "source": [
    "# function traceback() is used to traceback from the calculated scoring matrix, to get the optimal alignment of seq1 with seq2.\n",
    "def traceback(seq1, seq2, matrix, start_pos):\n",
    "    # lists aligned_seq1, aligned_seq2 are used to save the aligned results.\n",
    "    aligned_seq1 = []\n",
    "    aligned_seq2 = []\n",
    "    x, y = start_pos\n",
    "    move = next_move(matrix, x, y)\n",
    "    # if next move is end, break while loop.\n",
    "    while move != 0:\n",
    "        # if next move is diagonal direction.\n",
    "        if move == 1:\n",
    "            aligned_seq1.append(seq1[x-1])\n",
    "            aligned_seq2.append(seq2[y-1])\n",
    "            x = x - 1\n",
    "            y = y - 1\n",
    "        # if next move is up direction.\n",
    "        elif move == 2:\n",
    "            aligned_seq1.append(seq1[x-1])\n",
    "            aligned_seq2.append('-')\n",
    "            x = x - 1\n",
    "        # if next move is left direction.\n",
    "        else:\n",
    "            aligned_seq1.append('-')\n",
    "            aligned_seq2.append(seq2[y-1])\n",
    "            y = y - 1\n",
    "\n",
    "        move = next_move(matrix, x, y)\n",
    "    \n",
    "    aligned_seq1.append(seq1[x - 1])\n",
    "    aligned_seq2.append(seq2[y - 1])\n",
    "\n",
    "    return ''.join(reversed(aligned_seq1)), ''.join(reversed(aligned_seq2))"
   ]
  },
  {
   "cell_type": "code",
   "execution_count": 14,
   "metadata": {},
   "outputs": [],
   "source": [
    "def smith_waterman(seq1, seq2, match, mismatch, gap_penalty):\n",
    "    # calculate and generate scoring matrix.\n",
    "    matrix, start_pos = scoring_matrix(seq1, seq2, match, mismatch, gap_penalty)\n",
    "    # traceback to get the optimal alignment of seq1 with seq2.\n",
    "    seq1_aligned, seq2_aligned = traceback(seq1, seq2, matrix, start_pos)\n",
    "    # final score is the value in the position start_pos of the matrix.\n",
    "    final_score = matrix[start_pos[0]][start_pos[1]]\n",
    "    print (\"aligned seq1 = \", seq1_aligned)\n",
    "    print (\"aligned seq2 = \", seq2_aligned)\n",
    "    print (\"score is\" , final_score)"
   ]
  },
  {
   "cell_type": "code",
   "execution_count": 15,
   "metadata": {},
   "outputs": [
    {
     "name": "stdout",
     "output_type": "stream",
     "text": [
      "[[0 0 0 0 0 0 0 0 0 0 0 0 0 0 0 0 0 0 0]\n",
      " [0 0 0 1 0 0 0 0 0 1 0 0 0 0 1 0 0 0 0]\n",
      " [0 0 0 0 0 1 0 0 0 0 0 1 0 0 0 0 1 0 0]\n",
      " [0 0 1 0 0 0 0 1 1 0 0 0 2 1 0 1 0 0 1]\n",
      " [0 1 0 0 1 0 1 0 0 0 1 0 1 3 2 1 0 1 0]\n",
      " [0 0 0 1 0 0 0 0 0 1 0 0 0 2 4 3 2 1 0]\n",
      " [0 0 1 0 0 0 0 1 1 0 0 0 1 1 3 5 4 3 2]\n",
      " [0 0 0 0 0 1 0 0 0 0 0 1 0 0 2 4 6 5 4]\n",
      " [0 1 0 0 1 0 2 1 0 0 1 0 0 1 1 3 5 7 6]\n",
      " [0 0 0 0 0 2 1 1 0 0 0 2 1 0 0 2 4 6 6]\n",
      " [0 1 0 0 1 1 3 2 1 0 1 1 1 2 1 1 3 5 5]\n",
      " [0 0 2 1 0 0 2 4 3 2 1 0 2 1 1 2 2 4 6]\n",
      " [0 0 1 1 0 0 1 3 5 4 3 2 1 1 0 2 1 3 5]\n",
      " [0 0 1 0 0 0 0 2 4 4 3 2 3 2 1 1 1 2 4]\n",
      " [0 0 0 2 1 0 0 1 3 5 4 3 2 2 3 2 1 1 3]\n",
      " [0 1 0 1 3 2 1 0 2 4 6 5 4 3 2 2 1 2 2]\n",
      " [0 0 2 1 2 2 1 2 1 3 5 5 6 5 4 3 2 1 3]\n",
      " [0 0 1 1 1 3 2 1 1 2 4 6 5 5 4 3 4 3 2]\n",
      " [0 0 0 2 1 2 2 1 0 2 3 5 5 4 6 5 4 3 2]\n",
      " [0 0 0 1 1 2 1 1 0 1 2 4 4 4 5 5 6 5 4]\n",
      " [0 1 0 0 2 1 3 2 1 0 2 3 3 5 4 4 5 7 6]\n",
      " [0 0 2 1 1 1 2 4 3 2 1 2 4 4 4 5 4 6 8]]\n",
      "aligned seq1 =  agacccta-cgt-gac\n",
      "aligned seq2 =  agacc-tagcatcgac\n",
      "score is 8\n"
     ]
    }
   ],
   "source": [
    "# testing code1.\n",
    "# seq1 = 'tgcatcgagaccctacgtgac', \n",
    "# seq2 = 'actagacctagcatcgac'\n",
    "# score = 8 (true for all results)\n",
    "smith_waterman('tgcatcgagaccctacgtgac', 'actagacctagcatcgac', 1, 1, 1)"
   ]
  },
  {
   "cell_type": "code",
   "execution_count": 16,
   "metadata": {},
   "outputs": [
    {
     "name": "stdout",
     "output_type": "stream",
     "text": [
      "[[0 0 0 0 0 0 0 0 0 0 0 0 0 0 0 0 0 0 0]\n",
      " [0 0 0 1 0 0 0 0 0 1 0 0 0 0 1 0 0 0 0]\n",
      " [0 0 0 0 0 1 0 0 0 0 0 1 0 0 0 0 1 0 0]\n",
      " [0 0 1 0 0 0 0 1 1 0 0 0 2 0 0 1 0 0 1]\n",
      " [0 1 0 0 1 0 1 0 0 0 1 0 0 3 1 0 0 1 0]\n",
      " [0 0 0 1 0 0 0 0 0 1 0 0 0 1 4 2 0 0 0]\n",
      " [0 0 1 0 0 0 0 1 1 0 0 0 1 0 2 5 3 1 1]\n",
      " [0 0 0 0 0 1 0 0 0 0 0 1 0 0 0 3 6 4 2]\n",
      " [0 1 0 0 1 0 2 0 0 0 1 0 0 1 0 1 4 7 5]\n",
      " [0 0 0 0 0 2 0 1 0 0 0 2 0 0 0 0 2 5 6]\n",
      " [0 1 0 0 1 0 3 1 0 0 1 0 1 1 0 0 0 3 4]\n",
      " [0 0 2 0 0 0 1 4 2 0 0 0 1 0 0 1 0 1 4]\n",
      " [0 0 1 1 0 0 0 2 5 3 1 0 1 0 0 1 0 0 2]\n",
      " [0 0 1 0 0 0 0 1 3 4 2 0 1 0 0 1 0 0 1]\n",
      " [0 0 0 2 0 0 0 0 1 4 3 1 0 0 1 0 0 0 0]\n",
      " [0 1 0 0 3 1 1 0 0 2 5 3 1 1 0 0 0 1 0]\n",
      " [0 0 2 0 1 2 0 2 1 0 3 4 4 2 0 1 0 0 2]\n",
      " [0 0 0 1 0 2 1 0 1 0 1 4 3 3 1 0 2 0 0]\n",
      " [0 0 0 1 0 0 1 0 0 2 0 2 3 2 4 2 0 1 0]\n",
      " [0 0 0 0 0 1 0 0 0 0 1 1 1 2 2 3 3 1 0]\n",
      " [0 1 0 0 1 0 2 0 0 0 1 0 0 2 1 1 2 4 2]\n",
      " [0 0 2 0 0 0 0 3 1 0 0 0 1 0 1 2 0 2 5]]\n",
      "aligned seq1 =  gcatcga\n",
      "aligned seq2 =  gcatcga\n",
      "score is 7\n"
     ]
    }
   ],
   "source": [
    "# testing code2.\n",
    "smith_waterman('tgcatcgagaccctacgtgac', 'actagacctagcatcgac', 1, 1, 2)\n",
    "# there is only one possibility: seq1 = seq2 = gcatcga, score=7"
   ]
  },
  {
   "cell_type": "code",
   "execution_count": 17,
   "metadata": {},
   "outputs": [
    {
     "name": "stdout",
     "output_type": "stream",
     "text": [
      "[[0 0 0 0 0 0 0 0 0 0 0 0 0]\n",
      " [0 0 1 0 0 1 1 0 0 0 0 0 0]\n",
      " [0 0 0 0 0 0 0 2 1 0 0 0 1]\n",
      " [0 1 0 1 1 0 0 1 1 0 0 1 0]\n",
      " [0 1 0 1 2 1 0 0 0 0 0 1 0]\n",
      " [0 0 0 0 1 1 0 1 1 0 0 0 2]\n",
      " [0 0 1 0 0 2 2 1 0 0 0 0 1]\n",
      " [0 0 1 0 0 1 3 2 1 0 0 0 0]\n",
      " [0 0 0 0 0 0 2 4 3 2 1 0 1]\n",
      " [0 0 0 0 0 0 1 3 3 4 3 2 1]\n",
      " [0 0 0 0 0 0 0 2 2 4 5 4 3]\n",
      " [0 0 1 0 0 1 1 1 1 3 4 4 3]\n",
      " [0 1 0 2 1 0 0 0 0 2 3 5 4]\n",
      " [0 0 0 1 1 0 0 1 1 1 2 4 6]]\n",
      "aligned seq1 =  ccgttg-aatcg\n",
      "aligned seq2 =  cc-ttggaa-cg\n",
      "score is 6\n"
     ]
    }
   ],
   "source": [
    "# testing code3.\n",
    "smith_waterman('tgccgttgaatcg', 'ctccttggaacg', 1, 1, 1)"
   ]
  },
  {
   "cell_type": "code",
   "execution_count": 19,
   "metadata": {},
   "outputs": [
    {
     "name": "stdout",
     "output_type": "stream",
     "text": [
      "[[ 0  0  0  0  0  0  0  0  0  0  0  0  0]\n",
      " [ 0  0  2  0  0  2  2  0  0  0  0  0  0]\n",
      " [ 0  0  0  0  0  0  0  4  2  0  0  0  2]\n",
      " [ 0  2  0  2  2  0  0  2  2  0  0  2  0]\n",
      " [ 0  2  0  2  4  2  0  0  0  0  0  2  0]\n",
      " [ 0  0  0  0  2  2  0  2  2  0  0  0  4]\n",
      " [ 0  0  2  0  0  4  4  2  0  0  0  0  2]\n",
      " [ 0  0  2  0  0  2  6  4  2  0  0  0  0]\n",
      " [ 0  0  0  0  0  0  4  8  6  4  2  0  2]\n",
      " [ 0  0  0  0  0  0  2  6  6  8  6  4  2]\n",
      " [ 0  0  0  0  0  0  0  4  4  8 10  8  6]\n",
      " [ 0  0  2  0  0  2  2  2  2  6  8  8  6]\n",
      " [ 0  2  0  4  2  0  0  0  0  4  6 10  8]\n",
      " [ 0  0  0  2  2  0  0  2  2  2  4  8 12]]\n",
      "aligned seq1 =  ccgttg-aatcg\n",
      "aligned seq2 =  cc-ttggaa-cg\n",
      "score is 12\n"
     ]
    }
   ],
   "source": [
    "# testing code3.\n",
    "smith_waterman('tgccgttgaatcg', 'ctccttggaacg', 2, 2, 2)"
   ]
  }
 ],
 "metadata": {
  "interpreter": {
   "hash": "bd4c67ef142469da7dc4d338a32ac40116904d26076b8e6aa587d80720bc6a2b"
  },
  "kernelspec": {
   "display_name": "Python 3.9.7 64-bit",
   "language": "python",
   "name": "python3"
  },
  "language_info": {
   "codemirror_mode": {
    "name": "ipython",
    "version": 3
   },
   "file_extension": ".py",
   "mimetype": "text/x-python",
   "name": "python",
   "nbconvert_exporter": "python",
   "pygments_lexer": "ipython3",
   "version": "3.9.7"
  },
  "orig_nbformat": 4
 },
 "nbformat": 4,
 "nbformat_minor": 2
}
