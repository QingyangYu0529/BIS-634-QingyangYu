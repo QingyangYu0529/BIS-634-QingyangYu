{
 "cells": [
  {
   "cell_type": "code",
   "execution_count": 173,
   "metadata": {},
   "outputs": [],
   "source": [
    "import requests\n",
    "import numpy as np\n",
    "from numpy.linalg import norm"
   ]
  },
  {
   "cell_type": "code",
   "execution_count": 174,
   "metadata": {},
   "outputs": [],
   "source": [
    "# return the prediction errors.\n",
    "def f(a,b):\n",
    "    result = float(requests.get(f\"http://ramcdougal.com/cgi-bin/error_function.py?a={a}&b={b}\", headers={\"User-Agent\": \"MyScript\"}).text.strip())\n",
    "    return result"
   ]
  },
  {
   "cell_type": "code",
   "execution_count": 176,
   "metadata": {},
   "outputs": [],
   "source": [
    "# return derivative of f(a,b) with respect to a.\n",
    "def dfda(a, b, h):\n",
    "    return (f(a + h,b) - f(a,b))/h\n",
    "\n",
    "# return derivative of f(a,b) with respect to b.\n",
    "def dfdb(a, b, h):\n",
    "    return (f(a,b + h) - f(a,b))/h\n",
    "\n",
    "# return a 2D vector, which contains derivatives of f(a,b) with respect to a or b.\n",
    "def gradf(a, b, h):\n",
    "    return np.array([dfda(a, b, h), dfdb(a, b, h)]) "
   ]
  },
  {
   "cell_type": "code",
   "execution_count": 187,
   "metadata": {},
   "outputs": [],
   "source": [
    "# reference: https://numpy.org/doc/stable/reference/generated/numpy.linalg.norm.html, https://www.cs.toronto.edu/~guerzhoy/411/lec/W02/python/graddescent2d.html\n",
    "def two_dimension_grad_descent(init_guess, gamma, h, threshold):\n",
    "    prev_guess = init_guess - 10 * threshold\n",
    "    guess = init_guess\n",
    "    \n",
    "    # save values of a, b and f(a,b) into lists.\n",
    "    guess_a = []\n",
    "    guess_b = []\n",
    "    f_result = []\n",
    "    iteration = 0\n",
    "    # when the norm of gradient is smaller than a artificial threshold, or number of iteration reaches a maxmimum value, break while loop.\n",
    "    while norm(guess - prev_guess) > threshold and iteration < 5000:\n",
    "        prev_guess = guess\n",
    "        # move parameters a and b a little bit, in the direaction where f(a,b) decreases in a fastest speed.\n",
    "        guess = guess - gamma * gradf(guess[0], guess[1], h)\n",
    "        guess_a.append(guess[0])\n",
    "        guess_b.append(guess[1])\n",
    "        f_result.append(f(guess[0], guess[1]))\n",
    "        iteration = iteration + 1\n",
    "        \n",
    "    print (f\"The minimum value {f_result[-1]} occurs when a = {guess_a[-1]}, b = {guess_b[-1]}.\")"
   ]
  },
  {
   "cell_type": "code",
   "execution_count": 188,
   "metadata": {},
   "outputs": [
    {
     "name": "stdout",
     "output_type": "stream",
     "text": [
      "The minimum value 1.100000005 occurs when a = 0.21595000000038012, b = 0.6889500399996086.\n"
     ]
    }
   ],
   "source": [
    "# try different values of a and b to find local and global minimum.\n",
    "two_dimension_grad_descent(np.array([0.001, 0.999]), 0.1, 1e-4, 1e-8)"
   ]
  },
  {
   "cell_type": "code",
   "execution_count": 189,
   "metadata": {},
   "outputs": [
    {
     "name": "stdout",
     "output_type": "stream",
     "text": [
      "The minimum value 1.000000015 occurs when a = 0.7119500099997124, b = 0.1689500000000278.\n"
     ]
    }
   ],
   "source": [
    "two_dimension_grad_descent(np.array([0.999, 0.001]), 0.1, 1e-4, 1e-8)"
   ]
  },
  {
   "cell_type": "code",
   "execution_count": 190,
   "metadata": {},
   "outputs": [
    {
     "name": "stdout",
     "output_type": "stream",
     "text": [
      "The minimum value 1.100000005 occurs when a = 0.215950025000466, b = 0.6889500000001876.\n"
     ]
    }
   ],
   "source": [
    "two_dimension_grad_descent(np.array([0.5, 0.5]), 0.25, 1e-4, 1e-8)"
   ]
  },
  {
   "cell_type": "code",
   "execution_count": 191,
   "metadata": {},
   "outputs": [
    {
     "name": "stdout",
     "output_type": "stream",
     "text": [
      "The minimum value 1.100000005 occurs when a = 0.2159500249988845, b = 0.6889499999991612.\n"
     ]
    }
   ],
   "source": [
    "two_dimension_grad_descent(np.array([0.999, 0.999]), 0.25, 1e-4, 1e-8)"
   ]
  },
  {
   "cell_type": "code",
   "execution_count": 192,
   "metadata": {},
   "outputs": [
    {
     "name": "stdout",
     "output_type": "stream",
     "text": [
      "The minimum value 1.100000005 occurs when a = 0.21595000000038012, b = 0.6889499750001017.\n"
     ]
    }
   ],
   "source": [
    "two_dimension_grad_descent(np.array([0.001, 0.001]), 0.25, 1e-4, 1e-8)"
   ]
  }
 ],
 "metadata": {
  "interpreter": {
   "hash": "bd4c67ef142469da7dc4d338a32ac40116904d26076b8e6aa587d80720bc6a2b"
  },
  "kernelspec": {
   "display_name": "Python 3.9.7 64-bit",
   "name": "python3"
  },
  "language_info": {
   "codemirror_mode": {
    "name": "ipython",
    "version": 3
   },
   "file_extension": ".py",
   "mimetype": "text/x-python",
   "name": "python",
   "nbconvert_exporter": "python",
   "pygments_lexer": "ipython3",
   "version": "3.9.7"
  },
  "orig_nbformat": 4
 },
 "nbformat": 4,
 "nbformat_minor": 2
}
