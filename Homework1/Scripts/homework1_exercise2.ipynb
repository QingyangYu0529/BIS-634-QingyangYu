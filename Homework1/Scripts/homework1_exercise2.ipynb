{
 "cells": [
  {
   "cell_type": "code",
   "execution_count": 18,
   "source": [
    "# import libraries pandas and sqlite3, load the database into Python as a pandas dataframe.\r\n",
    "import pandas as pd\r\n",
    "import sqlite3\r\n",
    "with sqlite3.connect(\"hw1-population.db\") as db:\r\n",
    "    data = pd.read_sql_query(\"SELECT * FROM population\", db)"
   ],
   "outputs": [],
   "metadata": {}
  },
  {
   "cell_type": "code",
   "execution_count": 19,
   "source": [
    "# using .columns to see how many columns are in this dataframe.\r\n",
    "data.columns"
   ],
   "outputs": [
    {
     "output_type": "execute_result",
     "data": {
      "text/plain": [
       "Index(['name', 'age', 'weight', 'eyecolor'], dtype='object')"
      ]
     },
     "metadata": {},
     "execution_count": 19
    }
   ],
   "metadata": {}
  },
  {
   "cell_type": "code",
   "execution_count": 20,
   "source": [
    "# using .groupby to see how many people(not repetitive rows) in this dataframe.\r\n",
    "data.groupby(by=['name'], as_index=False).count()"
   ],
   "outputs": [
    {
     "output_type": "execute_result",
     "data": {
      "text/html": [
       "<div>\n",
       "<style scoped>\n",
       "    .dataframe tbody tr th:only-of-type {\n",
       "        vertical-align: middle;\n",
       "    }\n",
       "\n",
       "    .dataframe tbody tr th {\n",
       "        vertical-align: top;\n",
       "    }\n",
       "\n",
       "    .dataframe thead th {\n",
       "        text-align: right;\n",
       "    }\n",
       "</style>\n",
       "<table border=\"1\" class=\"dataframe\">\n",
       "  <thead>\n",
       "    <tr style=\"text-align: right;\">\n",
       "      <th></th>\n",
       "      <th>name</th>\n",
       "      <th>age</th>\n",
       "      <th>weight</th>\n",
       "      <th>eyecolor</th>\n",
       "    </tr>\n",
       "  </thead>\n",
       "  <tbody>\n",
       "    <tr>\n",
       "      <th>0</th>\n",
       "      <td>Aaron Akridge</td>\n",
       "      <td>1</td>\n",
       "      <td>1</td>\n",
       "      <td>1</td>\n",
       "    </tr>\n",
       "    <tr>\n",
       "      <th>1</th>\n",
       "      <td>Aaron Alexander</td>\n",
       "      <td>1</td>\n",
       "      <td>1</td>\n",
       "      <td>1</td>\n",
       "    </tr>\n",
       "    <tr>\n",
       "      <th>2</th>\n",
       "      <td>Aaron Amin</td>\n",
       "      <td>1</td>\n",
       "      <td>1</td>\n",
       "      <td>1</td>\n",
       "    </tr>\n",
       "    <tr>\n",
       "      <th>3</th>\n",
       "      <td>Aaron Ardis</td>\n",
       "      <td>1</td>\n",
       "      <td>1</td>\n",
       "      <td>1</td>\n",
       "    </tr>\n",
       "    <tr>\n",
       "      <th>4</th>\n",
       "      <td>Aaron Ascolese</td>\n",
       "      <td>1</td>\n",
       "      <td>1</td>\n",
       "      <td>1</td>\n",
       "    </tr>\n",
       "    <tr>\n",
       "      <th>...</th>\n",
       "      <td>...</td>\n",
       "      <td>...</td>\n",
       "      <td>...</td>\n",
       "      <td>...</td>\n",
       "    </tr>\n",
       "    <tr>\n",
       "      <th>137587</th>\n",
       "      <td>Zoraida Johnson</td>\n",
       "      <td>1</td>\n",
       "      <td>1</td>\n",
       "      <td>1</td>\n",
       "    </tr>\n",
       "    <tr>\n",
       "      <th>137588</th>\n",
       "      <td>Zula Francis</td>\n",
       "      <td>1</td>\n",
       "      <td>1</td>\n",
       "      <td>1</td>\n",
       "    </tr>\n",
       "    <tr>\n",
       "      <th>137589</th>\n",
       "      <td>Zula Marchant</td>\n",
       "      <td>1</td>\n",
       "      <td>1</td>\n",
       "      <td>1</td>\n",
       "    </tr>\n",
       "    <tr>\n",
       "      <th>137590</th>\n",
       "      <td>Zulema Barnes</td>\n",
       "      <td>1</td>\n",
       "      <td>1</td>\n",
       "      <td>1</td>\n",
       "    </tr>\n",
       "    <tr>\n",
       "      <th>137591</th>\n",
       "      <td>Zulema Robins</td>\n",
       "      <td>1</td>\n",
       "      <td>1</td>\n",
       "      <td>1</td>\n",
       "    </tr>\n",
       "  </tbody>\n",
       "</table>\n",
       "<p>137592 rows × 4 columns</p>\n",
       "</div>"
      ],
      "text/plain": [
       "                   name  age  weight  eyecolor\n",
       "0         Aaron Akridge    1       1         1\n",
       "1       Aaron Alexander    1       1         1\n",
       "2            Aaron Amin    1       1         1\n",
       "3           Aaron Ardis    1       1         1\n",
       "4        Aaron Ascolese    1       1         1\n",
       "...                 ...  ...     ...       ...\n",
       "137587  Zoraida Johnson    1       1         1\n",
       "137588     Zula Francis    1       1         1\n",
       "137589    Zula Marchant    1       1         1\n",
       "137590    Zulema Barnes    1       1         1\n",
       "137591    Zulema Robins    1       1         1\n",
       "\n",
       "[137592 rows x 4 columns]"
      ]
     },
     "metadata": {},
     "execution_count": 20
    }
   ],
   "metadata": {}
  },
  {
   "cell_type": "code",
   "execution_count": 21,
   "source": [
    "# using .describe to generate statistical description on the dataframe. Using .loc to locate the data in the 'age' column. \r\n",
    "data.describe().loc[:,'age']"
   ],
   "outputs": [
    {
     "output_type": "execute_result",
     "data": {
      "text/plain": [
       "count    152361.000000\n",
       "mean         39.510528\n",
       "std          24.152760\n",
       "min           0.000748\n",
       "25%          19.296458\n",
       "50%          38.468955\n",
       "75%          57.623245\n",
       "max          99.991547\n",
       "Name: age, dtype: float64"
      ]
     },
     "metadata": {},
     "execution_count": 21
    }
   ],
   "metadata": {}
  },
  {
   "cell_type": "code",
   "execution_count": 22,
   "source": [
    "# import libraries matplotlib and numpy\r\n",
    "import matplotlib\r\n",
    "import matplotlib.pyplot as plt\r\n",
    "import numpy as np"
   ],
   "outputs": [],
   "metadata": {}
  },
  {
   "cell_type": "code",
   "execution_count": 23,
   "source": [
    "# using matplotlib.pyplot to draw the histagram of ages in the dataset. using .xlabel, .ylabel, .title to set the x-axis label, y-axis label and figure title.\r\n",
    "plt.hist(data.age, bins = 40, edgecolor = \"black\")\r\n",
    "plt.xlabel(\"Age\")\r\n",
    "plt.ylabel(\"Frequency\")\r\n",
    "plt.title(\"Distribution of the ages in the dataset\")\r\n",
    "plt.show()"
   ],
   "outputs": [
    {
     "output_type": "display_data",
     "data": {
      "image/png": "[encoded data removed]",
      "text/plain": [
       "<Figure size 432x288 with 1 Axes>"
      ]
     },
     "metadata": {
      "needs_background": "light"
     }
    }
   ],
   "metadata": {}
  },
  {
   "cell_type": "code",
   "execution_count": 24,
   "source": [
    "# same as above, using matplotlib.pyplot.hist to draw the histagram of weights in the dataset. using .xlabel, .ylabel, .title to set the x-axis label, y-axis label and figure title.\r\n",
    "plt.hist(data.weight, bins = 50, edgecolor = \"black\")\r\n",
    "plt.xlabel(\"Weight\")\r\n",
    "plt.ylabel(\"Frequency\")\r\n",
    "plt.title(\"Distribution of the weights in the dataset\")\r\n",
    "plt.show()"
   ],
   "outputs": [
    {
     "output_type": "display_data",
     "data": {
      "image/png": "[encoded data removed]",
      "text/plain": [
       "<Figure size 432x288 with 1 Axes>"
      ]
     },
     "metadata": {
      "needs_background": "light"
     }
    }
   ],
   "metadata": {}
  },
  {
   "cell_type": "code",
   "execution_count": 25,
   "source": [
    "# using matplotlib.pyplot.scatter to draw the scatterplot between ages and weights in the dataset. using .xlabel, .ylabel, .title to set the x-axis label, y-axis label and figure title.\r\n",
    "plt.scatter(data.age, data.weight)\r\n",
    "plt.xlabel(\"Age\")\r\n",
    "plt.ylabel(\"Weight\")\r\n",
    "plt.title(\"Relationship between age and weight in the dataset\")\r\n",
    "plt.show()"
   ],
   "outputs": [
    {
     "output_type": "display_data",
     "data": {
      "image/png": "[encoded data removed]",
      "text/plain": [
       "<Figure size 432x288 with 1 Axes>"
      ]
     },
     "metadata": {
      "needs_background": "light"
     }
    }
   ],
   "metadata": {}
  },
  {
   "cell_type": "code",
   "execution_count": 26,
   "source": [
    "# transpose the dataframe for further use.\r\n",
    "data_transposed = data.T\r\n",
    "\r\n",
    "# define the function find_outlier()\r\n",
    "def find_outlier():\r\n",
    "    # create a list called name_list(at first is empty), to store the names in the dataframe.\r\n",
    "    name_list = []\r\n",
    "    # use for loop to go through all the elements in transposed dataframe. \r\n",
    "    for i in range(0,len(data)):\r\n",
    "        # use if/else as conditional statements to get the element in which age is among 40-50, weight is among 20-30. save the name of element into name_list.\r\n",
    "        if 40 < data_transposed[i]['age'] < 50 and 20 < data_transposed[i]['weight'] < 30:\r\n",
    "            name_list.append(data_transposed[i]['name'])\r\n",
    "    print(name_list)\r\n",
    "\r\n",
    "find_outlier()"
   ],
   "outputs": [
    {
     "output_type": "stream",
     "name": "stdout",
     "text": [
      "['Anthony Freeman']\n"
     ]
    }
   ],
   "metadata": {}
  },
  {
   "cell_type": "code",
   "execution_count": 33,
   "source": [
    "# Testing code:\r\n",
    "# define the function test_find_outlier(), to test the function find_outlier().\r\n",
    "def test_find_outlier():\r\n",
    "    # use for loop to travase the whole dataframe, use if/else as conditional statement: if the name is 'Anthony Freeman', print his age and weight.\r\n",
    "    for i in range(0,len(data)):\r\n",
    "        if data_transposed[i]['name'] == 'Anthony Freeman':\r\n",
    "            print(f\"His age is {data_transposed[i]['age']:.1f}, and his weight is {data_transposed[i]['weight']:.1f}\")\r\n",
    "\r\n",
    "# run the testing code, found two records from Anthony Freeman: \r\n",
    "# the first record showed his age is 41.3, and his weight is 21.7, which is the outlier in the previous scatterplot.\r\n",
    "test_find_outlier()\r\n",
    "data.describe().loc[:,'age']\r\n",
    "data.describe().loc[:,'weight']"
   ],
   "outputs": [
    {
     "output_type": "stream",
     "name": "stdout",
     "text": [
      "His age is 41.3, and his weight is 21.7\n",
      "His age is 33.3, and his weight is 74.0\n"
     ]
    },
    {
     "output_type": "execute_result",
     "data": {
      "text/plain": [
       "count    152361.000000\n",
       "mean         60.884134\n",
       "std          18.411824\n",
       "min           3.382084\n",
       "25%          58.300135\n",
       "50%          68.000000\n",
       "75%          71.529860\n",
       "max         100.435793\n",
       "Name: weight, dtype: float64"
      ]
     },
     "metadata": {},
     "execution_count": 33
    }
   ],
   "metadata": {}
  }
 ],
 "metadata": {
  "orig_nbformat": 4,
  "language_info": {
   "name": "python",
   "version": "3.9.7",
   "mimetype": "text/x-python",
   "codemirror_mode": {
    "name": "ipython",
    "version": 3
   },
   "pygments_lexer": "ipython3",
   "nbconvert_exporter": "python",
   "file_extension": ".py"
  },
  "kernelspec": {
   "name": "python3",
   "display_name": "Python 3.9.7 64-bit"
  },
  "interpreter": {
   "hash": "bd4c67ef142469da7dc4d338a32ac40116904d26076b8e6aa587d80720bc6a2b"
  }
 },
 "nbformat": 4,
 "nbformat_minor": 2
}