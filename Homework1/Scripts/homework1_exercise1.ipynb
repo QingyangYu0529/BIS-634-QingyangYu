{
 "cells": [
  {
   "cell_type": "code",
   "execution_count": 6,
   "source": [
    "def temp_tester(normal_temp):\r\n",
    "    # define the function temp_tester\r\n",
    "    def set_temp_tester(temp):\r\n",
    "        # define the function set_temp_tester, in order to decide whether a given temperature [temp] is beyond normal temperature [normal_temp]  \r\n",
    "        if (normal_temp - 1 <= temp <= normal_temp + 1):\r\n",
    "            print(\"TRUE\")\r\n",
    "        else:\r\n",
    "            print(\"FALSE\")\r\n",
    "            # using if/else conditional statement, if temperature is normal, print 'True', otherwise print 'false'.\r\n",
    "    return set_temp_tester\r\n",
    "    # using the concept of closure, every time we run the function temp_tester, function set_temp_tester also runs and return the result"
   ],
   "outputs": [],
   "metadata": {}
  },
  {
   "cell_type": "code",
   "execution_count": 7,
   "source": [
    "#Tesing code:\r\n",
    "human_tester = temp_tester(37)\r\n",
    "chicken_tester = temp_tester(41.1)\r\n",
    "\r\n",
    "chicken_tester(42)\r\n",
    "human_tester(42)\r\n",
    "chicken_tester(43)\r\n",
    "human_tester(35)\r\n",
    "human_tester(98.6)"
   ],
   "outputs": [
    {
     "output_type": "stream",
     "name": "stdout",
     "text": [
      "TRUE\n",
      "FALSE\n",
      "FALSE\n",
      "FALSE\n",
      "FALSE\n"
     ]
    }
   ],
   "metadata": {}
  }
 ],
 "metadata": {
  "orig_nbformat": 4,
  "language_info": {
   "name": "python",
   "version": "3.9.7",
   "mimetype": "text/x-python",
   "codemirror_mode": {
    "name": "ipython",
    "version": 3
   },
   "pygments_lexer": "ipython3",
   "nbconvert_exporter": "python",
   "file_extension": ".py"
  },
  "kernelspec": {
   "name": "python3",
   "display_name": "Python 3.9.7 64-bit"
  },
  "interpreter": {
   "hash": "bd4c67ef142469da7dc4d338a32ac40116904d26076b8e6aa587d80720bc6a2b"
  }
 },
 "nbformat": 4,
 "nbformat_minor": 2
}