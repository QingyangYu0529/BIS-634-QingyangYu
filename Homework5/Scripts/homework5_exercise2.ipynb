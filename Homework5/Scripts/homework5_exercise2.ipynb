{
 "cells": [
  {
   "cell_type": "code",
   "execution_count": 175,
   "metadata": {},
   "outputs": [],
   "source": [
    "from tqdm import tqdm\n",
    "import random\n",
    "import time"
   ]
  },
  {
   "cell_type": "code",
   "execution_count": 176,
   "metadata": {},
   "outputs": [],
   "source": [
    "class Tree:\n",
    "    # set the left and right part of the tree, which are initially empty.\n",
    "    def __init__(self, value = None):\n",
    "        self.value = value\n",
    "        self.left = None\n",
    "        self.right = None\n",
    "    \n",
    "    # used to determine whether a number is in the tree.\n",
    "    def __contains__(self, item):\n",
    "        if self.value == item:\n",
    "            return True\n",
    "        elif self.left and item < self.value:\n",
    "            return item in self.left\n",
    "        elif self.right and item > self.value:\n",
    "            return item in self.right\n",
    "        else:\n",
    "            return False\n",
    "\n",
    "    # used to insert a single value into the tree.\n",
    "    def add(self, value):\n",
    "        # root is None, add value to the root.\n",
    "        if self.value is None:\n",
    "            self.value = value\n",
    "        else:\n",
    "            if self.value == value:\n",
    "                self.value = value\n",
    "            # if root value is smaller than value to be added, value is added to the right part of the tree.\n",
    "            elif self.value < value:\n",
    "                if self.right is None:\n",
    "                    self.right = Tree(value)\n",
    "                else:\n",
    "                    self.right.add(value)\n",
    "            # if root value is bigger than value to be added, value is added to the left part of the tree.\n",
    "            else:\n",
    "                if self.left is None:\n",
    "                    self.left = Tree(value)\n",
    "                else:\n",
    "                    self.left.add(value)\n",
    "\n",
    "    # inorder traverse BST, to test whether values are successfully added.\n",
    "    def PrintTreeInOrder(self):\n",
    "        elements = []\n",
    "        if self.left is not None:\n",
    "            elements += self.left.PrintTreeInOrder()\n",
    "        elements.append(self.value)\n",
    "        if self.right is not None:\n",
    "            elements += self.right.PrintTreeInOrder()\n",
    "        return elements\n",
    "\n",
    "    # preorder traverse BST, to test whether values are successfully added.\n",
    "    def PrintTreePreOrder(self):\n",
    "        elements = [self.value]\n",
    "        if self.left is not None:\n",
    "            elements += self.left.PrintTreePreOrder()\n",
    "        if self.right is not None:\n",
    "            elements += self.right.PrintTreePreOrder()\n",
    "        return elements\n",
    "    # postorder traverse BST, to test whether values are successfully added.\n",
    "    def PrintTreePostOrder(self):\n",
    "        elements = []\n",
    "        if self.left is not None:\n",
    "            elements += self.left.PrintTreePostOrder()\n",
    "        if self.right is not None:\n",
    "            elements += self.right.PrintTreePostOrder()\n",
    "        elements.append(self.value)\n",
    "        return elements"
   ]
  },
  {
   "cell_type": "code",
   "execution_count": 177,
   "metadata": {},
   "outputs": [],
   "source": [
    "my_tree = Tree()\n",
    "for item in [55, 62, 37, 49, 71, 14, 17]:     \n",
    "    my_tree.add(item)"
   ]
  },
  {
   "cell_type": "code",
   "execution_count": 178,
   "metadata": {},
   "outputs": [
    {
     "data": {
      "text/plain": [
       "[14, 17, 37, 49, 55, 62, 71]"
      ]
     },
     "execution_count": 178,
     "metadata": {},
     "output_type": "execute_result"
    }
   ],
   "source": [
    "# testing for add method.\n",
    "# traverse the tree in order.\n",
    "my_tree.PrintTreeInOrder()"
   ]
  },
  {
   "cell_type": "code",
   "execution_count": 179,
   "metadata": {},
   "outputs": [
    {
     "data": {
      "text/plain": [
       "[55, 37, 14, 17, 49, 62, 71]"
      ]
     },
     "execution_count": 179,
     "metadata": {},
     "output_type": "execute_result"
    }
   ],
   "source": [
    "# traverse the tree pre order.\n",
    "my_tree.PrintTreePreOrder()"
   ]
  },
  {
   "cell_type": "code",
   "execution_count": 180,
   "metadata": {},
   "outputs": [
    {
     "data": {
      "text/plain": [
       "[17, 14, 49, 37, 71, 62, 55]"
      ]
     },
     "execution_count": 180,
     "metadata": {},
     "output_type": "execute_result"
    }
   ],
   "source": [
    "# traverse the tree post order.\n",
    "my_tree.PrintTreePostOrder()"
   ]
  },
  {
   "cell_type": "code",
   "execution_count": 181,
   "metadata": {},
   "outputs": [
    {
     "data": {
      "text/plain": [
       "True"
      ]
     },
     "execution_count": 181,
     "metadata": {},
     "output_type": "execute_result"
    }
   ],
   "source": [
    "# testing for __contains__ method.\n",
    "my_tree.__contains__(55)"
   ]
  },
  {
   "cell_type": "code",
   "execution_count": 182,
   "metadata": {},
   "outputs": [
    {
     "data": {
      "text/plain": [
       "False"
      ]
     },
     "execution_count": 182,
     "metadata": {},
     "output_type": "execute_result"
    }
   ],
   "source": [
    "my_tree.__contains__(42)"
   ]
  },
  {
   "cell_type": "code",
   "execution_count": 183,
   "metadata": {},
   "outputs": [
    {
     "data": {
      "text/plain": [
       "True"
      ]
     },
     "execution_count": 183,
     "metadata": {},
     "output_type": "execute_result"
    }
   ],
   "source": [
    "55 in my_tree"
   ]
  },
  {
   "cell_type": "code",
   "execution_count": 184,
   "metadata": {},
   "outputs": [
    {
     "data": {
      "text/plain": [
       "False"
      ]
     },
     "execution_count": 184,
     "metadata": {},
     "output_type": "execute_result"
    }
   ],
   "source": [
    "42 in my_tree"
   ]
  },
  {
   "cell_type": "code",
   "execution_count": 185,
   "metadata": {},
   "outputs": [],
   "source": [
    "import random\n",
    "import statistics\n",
    "import matplotlib.pyplot as plt"
   ]
  },
  {
   "cell_type": "code",
   "execution_count": 186,
   "metadata": {},
   "outputs": [],
   "source": [
    "# record running time of in operation.\n",
    "def in_timing(n):\n",
    "    times = []\n",
    "    random_num = []\n",
    "    random_in_num = []\n",
    "    # list random_num contains n values that will be added into the tree.\n",
    "    for i in range(n):\n",
    "        num = random.randint(1,1000)\n",
    "        random_num.append(num)\n",
    "    # each tree need to determine whether 10 randomly generated numbers are in the tree.\n",
    "    for i in range(10):\n",
    "        num = random.randint(1,1000)\n",
    "        random_in_num.append(num)\n",
    "        \n",
    "    count = 0\n",
    "    # repeat for 100 times and choose the median value of running time.\n",
    "    while(count <= 100):\n",
    "        my_tree = Tree()\n",
    "        for num in random_num:\n",
    "            my_tree.add(num)\n",
    "        start = time.perf_counter()\n",
    "        for num in random_in_num:\n",
    "            num in my_tree\n",
    "        end = time.perf_counter()\n",
    "        times.append(end - start)\n",
    "        count = count + 1\n",
    "    return statistics.median(times)"
   ]
  },
  {
   "cell_type": "code",
   "execution_count": 187,
   "metadata": {},
   "outputs": [
    {
     "name": "stderr",
     "output_type": "stream",
     "text": [
      "100%|██████████| 9999/9999 [2:39:51<00:00,  1.04it/s]\n",
      "100%|██████████| 9999/9999 [00:00<00:00, 2499335.26it/s]\n",
      "100%|██████████| 9999/9999 [00:00<00:00, 3332447.02it/s]\n"
     ]
    }
   ],
   "source": [
    "# ns is in a continuous range between 1 and 1000.\n",
    "ns = range(1, 10000)\n",
    "in_running_time = [in_timing(int(n)) for n in tqdm(ns)]\n",
    "start_pt = in_running_time[0]\n",
    "_x2 = []\n",
    "_x = []\n",
    "for n in tqdm(ns):\n",
    "    _x2.append(start_pt * (n**2))\n",
    "for n in tqdm(ns):\n",
    "    _x.append(start_pt * (n))"
   ]
  },
  {
   "cell_type": "code",
   "execution_count": 188,
   "metadata": {},
   "outputs": [
    {
     "data": {
      "text/plain": [
       "<function matplotlib.pyplot.show(close=None, block=None)>"
      ]
     },
     "execution_count": 188,
     "metadata": {},
     "output_type": "execute_result"
    },
    {
     "data": {
      "image/png": "[encoded data removed]",
      "text/plain": [
       "<Figure size 432x288 with 1 Axes>"
      ]
     },
     "metadata": {
      "needs_background": "light"
     },
     "output_type": "display_data"
    }
   ],
   "source": [
    "# use matplotlib to visualize the relationship between n and running time.\n",
    "# also include curve x and x^2.\n",
    "ns = list(ns)\n",
    "plt.plot(ns, in_running_time)\n",
    "plt.plot(ns, _x)\n",
    "plt.plot(ns, _x2)\n",
    "plt.xscale(\"log\")\n",
    "plt.yscale(\"log\")\n",
    "plt.xlabel(\"ns\")\n",
    "plt.ylabel(\"time(s)\")\n",
    "plt.legend([\"time(s)\",\"x\",\"x^2\"], ncol = 3)\n",
    "plt.show"
   ]
  },
  {
   "cell_type": "code",
   "execution_count": 189,
   "metadata": {},
   "outputs": [],
   "source": [
    "# record running time of tree set up.\n",
    "def setup_tree_timing(n):\n",
    "    times = []\n",
    "    random_num = []\n",
    "    for i in range(n):\n",
    "        num = random.randint(1,1000)\n",
    "        random_num.append(num)\n",
    "\n",
    "    count = 0\n",
    "    while(count <= 100):\n",
    "        start = time.perf_counter()\n",
    "        my_tree = Tree(random_num[0])\n",
    "        for num in random_num[1:]:\n",
    "            my_tree.add(num)\n",
    "        end = time.perf_counter()\n",
    "        times.append(end - start)\n",
    "        count = count + 1\n",
    "    return statistics.median(times)"
   ]
  },
  {
   "cell_type": "code",
   "execution_count": 190,
   "metadata": {},
   "outputs": [
    {
     "name": "stderr",
     "output_type": "stream",
     "text": [
      "100%|██████████| 9999/9999 [4:38:43<00:00,  1.67s/it]\n",
      "100%|██████████| 9999/9999 [00:00<00:00, 2252717.71it/s]\n",
      "100%|██████████| 9999/9999 [00:00<00:00, 4999862.39it/s]\n"
     ]
    }
   ],
   "source": [
    "# ns is in a continuous range between 1 and 1000.\n",
    "ns = range(1, 10000)\n",
    "setup_running_time = [setup_tree_timing(int(n)) for n in tqdm(ns)]\n",
    "start_pt = setup_running_time[0]\n",
    "_x2 = []\n",
    "_x = []\n",
    "for n in tqdm(ns):\n",
    "    _x2.append(start_pt * (n**2))\n",
    "for n in tqdm(ns):\n",
    "    _x.append(start_pt * (n))\n"
   ]
  },
  {
   "cell_type": "code",
   "execution_count": 191,
   "metadata": {},
   "outputs": [
    {
     "data": {
      "text/plain": [
       "<function matplotlib.pyplot.show(close=None, block=None)>"
      ]
     },
     "execution_count": 191,
     "metadata": {},
     "output_type": "execute_result"
    },
    {
     "data": {
      "image/png": "[encoded data removed]",
      "text/plain": [
       "<Figure size 432x288 with 1 Axes>"
      ]
     },
     "metadata": {
      "needs_background": "light"
     },
     "output_type": "display_data"
    }
   ],
   "source": [
    "# use matplotlib to visualize the relationship between n and running time.\n",
    "# also include curve x and x^2.\n",
    "ns = list(ns)\n",
    "plt.plot(ns, setup_running_time)\n",
    "plt.plot(ns, _x)\n",
    "plt.plot(ns, _x2)\n",
    "plt.xscale(\"log\")\n",
    "plt.yscale(\"log\")\n",
    "plt.xlabel(\"ns\")\n",
    "plt.ylabel(\"time(s)\")\n",
    "plt.legend([\"time(s)\",\"x\",\"x^2\"], ncol = 3)\n",
    "plt.show"
   ]
  }
 ],
 "metadata": {
  "interpreter": {
   "hash": "bd4c67ef142469da7dc4d338a32ac40116904d26076b8e6aa587d80720bc6a2b"
  },
  "kernelspec": {
   "display_name": "Python 3.9.7 64-bit",
   "language": "python",
   "name": "python3"
  },
  "language_info": {
   "codemirror_mode": {
    "name": "ipython",
    "version": 3
   },
   "file_extension": ".py",
   "mimetype": "text/x-python",
   "name": "python",
   "nbconvert_exporter": "python",
   "pygments_lexer": "ipython3",
   "version": "3.9.7"
  },
  "orig_nbformat": 4
 },
 "nbformat": 4,
 "nbformat_minor": 2
}
